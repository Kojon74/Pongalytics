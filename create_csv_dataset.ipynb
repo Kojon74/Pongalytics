{
 "cells": [
  {
   "cell_type": "code",
   "execution_count": 56,
   "metadata": {},
   "outputs": [],
   "source": [
    "import csv\n",
    "import json"
   ]
  },
  {
   "cell_type": "code",
   "execution_count": 57,
   "metadata": {},
   "outputs": [],
   "source": [
    "train_test_split = 0.8"
   ]
  },
  {
   "cell_type": "code",
   "execution_count": 58,
   "metadata": {},
   "outputs": [],
   "source": [
    "# CSV columns: https://cloud.google.com/vision/automl/object-detection/docs/csv-format\n",
    "# 1st col: TRAIN, VALIDATION, TEST, UNASSIGNED\n",
    "# 2nd col: can use absolute path\n",
    "# 2nd col: ball\n",
    "# 3rd col: (x_relative_min, y_relative_min,,, x_relative_max, y_relative_max,,) with each point being within [0, 1]\n",
    "header = [\"train_test\", \"image_path\", \"label\", \"bounding_box\"]"
   ]
  },
  {
   "cell_type": "code",
   "execution_count": 59,
   "metadata": {},
   "outputs": [],
   "source": [
    "with open('imp/videos/labels_0/0.json') as label_file:\n",
    "    data = json.load(label_file)"
   ]
  },
  {
   "cell_type": "code",
   "execution_count": 60,
   "metadata": {},
   "outputs": [],
   "source": [
    "frame_height = data[\"-1\"][\"frameHeight\"]\n",
    "frame_width = data[\"-1\"][\"frameWidth\"]\n",
    "# frame_count = data[\"-1\"][\"frameCount\"]\n",
    "ball_radius = data[\"-1\"][\"ballRadius\"]\n"
   ]
  },
  {
   "cell_type": "code",
   "execution_count": 61,
   "metadata": {},
   "outputs": [],
   "source": [
    "def find_bounds(x, y):\n",
    "    x_min = x - ball_radius\n",
    "    x_max = x + ball_radius\n",
    "    y_min = y - ball_radius\n",
    "    y_max = y + ball_radius\n",
    "    if x_min < 0:\n",
    "        x_max -= x_min\n",
    "        x_min = 0\n",
    "    elif x_max >= frame_width:\n",
    "        x_min -= (x_max - frame_width)\n",
    "        x_max = frame_width\n",
    "    if y_min < 0:\n",
    "        y_max -= y_min\n",
    "        y_min = 0\n",
    "    elif y_max >= frame_height:\n",
    "        y_min -= (y_max - frame_height)\n",
    "        y_max = frame_height\n",
    "    # normalize coordinates between [0, 1]\n",
    "    x_min = x_min/frame_width\n",
    "    x_max = x_max/frame_width\n",
    "    y_min = y_min/frame_height\n",
    "    y_max = y_max/frame_height\n",
    "    return x_min, y_min, \"\", \"\", x_max, y_max, \"\", \"\""
   ]
  },
  {
   "cell_type": "code",
   "execution_count": 62,
   "metadata": {},
   "outputs": [],
   "source": [
    "df = []\n",
    "frame_nums = data.keys()\n",
    "frame_count = len(frame_nums)\n",
    "for i, k in enumerate(frame_nums):\n",
    "    if \"ballCoord\" not in data[k]:\n",
    "        continue\n",
    "    bounding_box = find_bounds(*data[k][\"ballCoord\"])\n",
    "    set_type = \"TRAIN\" if i < frame_count * train_test_split else \"VALIDATION\"\n",
    "    df.append([set_type, f\"{k}.jpeg\", \"ball\", *bounding_box])"
   ]
  },
  {
   "cell_type": "code",
   "execution_count": 63,
   "metadata": {},
   "outputs": [],
   "source": [
    "with open('imp/videos/data/0.csv', 'w') as f:\n",
    "    writer = csv.writer(f)\n",
    "    writer.writerows(df)"
   ]
  },
  {
   "cell_type": "code",
   "execution_count": null,
   "metadata": {},
   "outputs": [],
   "source": []
  }
 ],
 "metadata": {
  "kernelspec": {
   "display_name": "Python 3.9.15 ('tt_env': venv)",
   "language": "python",
   "name": "python3"
  },
  "language_info": {
   "codemirror_mode": {
    "name": "ipython",
    "version": 3
   },
   "file_extension": ".py",
   "mimetype": "text/x-python",
   "name": "python",
   "nbconvert_exporter": "python",
   "pygments_lexer": "ipython3",
   "version": "3.9.15"
  },
  "orig_nbformat": 4,
  "vscode": {
   "interpreter": {
    "hash": "524fc15747148b2532d87f584d1b6e471ef51f3fa0e892e230957e0ba9637d40"
   }
  }
 },
 "nbformat": 4,
 "nbformat_minor": 2
}
