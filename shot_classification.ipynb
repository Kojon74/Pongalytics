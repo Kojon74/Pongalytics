{
 "cells": [
  {
   "cell_type": "code",
   "execution_count": 1,
   "metadata": {},
   "outputs": [],
   "source": [
    "import json\n",
    "import numpy as np\n",
    "from numpy import genfromtxt\n",
    "\n",
    "from tensorflow.keras.models import Sequential\n",
    "from tensorflow.keras.layers import Dense, LSTM"
   ]
  },
  {
   "cell_type": "code",
   "execution_count": 2,
   "metadata": {},
   "outputs": [],
   "source": [
    "# Remember index refers to half the frame number\n",
    "# i = frame_num/2\n",
    "keypoints = genfromtxt('imp/videos/data/0_hpe.csv', delimiter=',')"
   ]
  },
  {
   "cell_type": "code",
   "execution_count": 3,
   "metadata": {},
   "outputs": [],
   "source": [
    "with open('imp/videos/labels_0/0.json', 'r') as f:\n",
    "    labels = json.load(f)"
   ]
  },
  {
   "cell_type": "code",
   "execution_count": 4,
   "metadata": {},
   "outputs": [],
   "source": [
    "fps_factor = 2\n",
    "serve_frames = int(60/fps_factor)\n",
    "# If the whole serve is 60 frames, at which frame is there contact with the ball\n",
    "labelled_frame = int(50/fps_factor)\n",
    "step_size = int(20/fps_factor)\n",
    "num_keypoints = 18"
   ]
  },
  {
   "cell_type": "code",
   "execution_count": 5,
   "metadata": {},
   "outputs": [],
   "source": [
    "# Create input to ML model\n",
    "near_sequences = []\n",
    "far_sequences = []\n",
    "# Could do this in a single list comprehension\n",
    "for i in range(serve_frames, len(keypoints), step_size):\n",
    "    near_sequences.append(keypoints[i-serve_frames:i, :2*num_keypoints])\n",
    "    far_sequences.append(keypoints[i-serve_frames:i, 2*num_keypoints:])\n",
    "near_sequences = np.array(near_sequences)\n",
    "far_sequences = np.array(far_sequences)"
   ]
  },
  {
   "cell_type": "code",
   "execution_count": 6,
   "metadata": {},
   "outputs": [],
   "source": [
    "# Make labels\n",
    "# Get only the frames that contain serves\n",
    "near_serve_frames = []\n",
    "far_serve_frames = []\n",
    "for key, value in labels.items():\n",
    "    if \"shot\" in value.keys() and value[\"shot\"][\"name\"] == \"F Pend Serve\":\n",
    "        if value[\"shot\"][\"player\"] == \"near\":\n",
    "            near_serve_frames.append(int(key))\n",
    "        else:\n",
    "            far_serve_frames.append(int(key))"
   ]
  },
  {
   "cell_type": "code",
   "execution_count": 12,
   "metadata": {},
   "outputs": [],
   "source": [
    "near_serve_num = 0\n",
    "far_serve_num = 0\n",
    "near_labels = []\n",
    "far_labels = []\n",
    "for i in range(len(near_sequences)):\n",
    "    cur_near_label = 0\n",
    "    cur_far_label = 0\n",
    "    lower_bound = fps_factor*(step_size*i + labelled_frame) - step_size\n",
    "    upper_bound = fps_factor*(step_size*i + labelled_frame) + step_size - 1\n",
    "    if near_serve_num < len(near_serve_frames):\n",
    "        cur_near_frame = near_serve_frames[near_serve_num]\n",
    "        if cur_near_frame >= lower_bound and cur_near_frame < upper_bound:\n",
    "            cur_near_label = 1\n",
    "            near_serve_num += 1\n",
    "    if far_serve_num < len(far_serve_frames):\n",
    "        cur_far_frame = far_serve_frames[far_serve_num]\n",
    "        if cur_far_frame >= lower_bound and cur_far_frame < upper_bound:\n",
    "            cur_far_label = 1\n",
    "            far_serve_num += 1\n",
    "    near_labels.append(cur_near_label)\n",
    "    far_labels.append(cur_far_label)\n",
    "near_labels = np.array(near_labels)\n",
    "far_labels = np.array(far_labels)"
   ]
  },
  {
   "cell_type": "code",
   "execution_count": 13,
   "metadata": {},
   "outputs": [],
   "source": [
    "model = Sequential([\n",
    "    LSTM(36),\n",
    "    Dense(1, activation='sigmoid')\n",
    "])"
   ]
  },
  {
   "cell_type": "code",
   "execution_count": 14,
   "metadata": {},
   "outputs": [],
   "source": [
    "model.compile(loss='binary_crossentropy', optimizer='adam', metrics=['accuracy'])"
   ]
  },
  {
   "cell_type": "code",
   "execution_count": 15,
   "metadata": {},
   "outputs": [
    {
     "name": "stdout",
     "output_type": "stream",
     "text": [
      "6/6 [==============================] - 2s 18ms/step - loss: 0.8620 - accuracy: 0.3988\n"
     ]
    },
    {
     "data": {
      "text/plain": [
       "<keras.callbacks.History at 0x12e6398b0>"
      ]
     },
     "execution_count": 15,
     "metadata": {},
     "output_type": "execute_result"
    }
   ],
   "source": [
    "model.fit(x=near_sequences, y=near_labels)"
   ]
  },
  {
   "cell_type": "code",
   "execution_count": null,
   "metadata": {},
   "outputs": [],
   "source": []
  }
 ],
 "metadata": {
  "kernelspec": {
   "display_name": "Python 3.9.15 ('tt_env': venv)",
   "language": "python",
   "name": "python3"
  },
  "language_info": {
   "codemirror_mode": {
    "name": "ipython",
    "version": 3
   },
   "file_extension": ".py",
   "mimetype": "text/x-python",
   "name": "python",
   "nbconvert_exporter": "python",
   "pygments_lexer": "ipython3",
   "version": "3.9.15"
  },
  "orig_nbformat": 4,
  "vscode": {
   "interpreter": {
    "hash": "524fc15747148b2532d87f584d1b6e471ef51f3fa0e892e230957e0ba9637d40"
   }
  }
 },
 "nbformat": 4,
 "nbformat_minor": 2
}
