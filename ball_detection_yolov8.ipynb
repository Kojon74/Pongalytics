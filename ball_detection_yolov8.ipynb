{
 "cells": [
  {
   "cell_type": "code",
   "execution_count": 1,
   "metadata": {},
   "outputs": [
    {
     "name": "stderr",
     "output_type": "stream",
     "text": [
      "/Users/kenjohnson/Documents/Projects/Personal/Table Tennis/tt_env/lib/python3.9/site-packages/tqdm/auto.py:22: TqdmWarning: IProgress not found. Please update jupyter and ipywidgets. See https://ipywidgets.readthedocs.io/en/stable/user_install.html\n",
      "  from .autonotebook import tqdm as notebook_tqdm\n"
     ]
    }
   ],
   "source": [
    "import cv2\n",
    "from ultralytics import YOLO\n",
    "from roboflow import Roboflow\n",
    "\n",
    "model = YOLO('yolov8n.pt')"
   ]
  },
  {
   "cell_type": "code",
   "execution_count": 4,
   "metadata": {},
   "outputs": [
    {
     "name": "stdout",
     "output_type": "stream",
     "text": [
      "loading Roboflow workspace...\n",
      "loading Roboflow project...\n",
      "Downloading Dataset Version Zip in Ball-Detection-2 to yolov5pytorch: 100% [16782285 / 16782285] bytes\n"
     ]
    },
    {
     "name": "stderr",
     "output_type": "stream",
     "text": [
      "Extracting Dataset Version Zip to Ball-Detection-2 in yolov5pytorch:: 100%|██████████| 538/538 [00:00<00:00, 1140.36it/s]\n"
     ]
    }
   ],
   "source": [
    "rf = Roboflow(api_key=\"7ncFBCdmUBerMMm67kXx\")\n",
    "project = rf.workspace(\"cpsc-440\").project(\"ball-detection-ofm6m\")\n",
    "dataset = project.version(2).download(\"yolov5\")"
   ]
  },
  {
   "attachments": {},
   "cell_type": "markdown",
   "metadata": {},
   "source": [
    "Make sure you change the train and val directories in the data.yaml (remove )"
   ]
  },
  {
   "cell_type": "code",
   "execution_count": 22,
   "metadata": {},
   "outputs": [
    {
     "data": {
      "text/plain": [
       "'/Users/kenjohnson/Documents/Projects/Personal/Table Tennis/Ball-Detection-1'"
      ]
     },
     "execution_count": 22,
     "metadata": {},
     "output_type": "execute_result"
    }
   ],
   "source": [
    "dataset.location"
   ]
  },
  {
   "cell_type": "code",
   "execution_count": 5,
   "metadata": {},
   "outputs": [
    {
     "name": "stderr",
     "output_type": "stream",
     "text": [
      "New https://pypi.org/project/ultralytics/8.0.88 available 😃 Update with 'pip install -U ultralytics'\n",
      "Ultralytics YOLOv8.0.82 🚀 Python-3.9.15 torch-1.13.0 CPU\n",
      "\u001b[34m\u001b[1myolo/engine/trainer: \u001b[0mtask=detect, mode=train, model=yolov8n.pt, data=/Users/kenjohnson/Documents/Projects/Personal/Table Tennis/Ball-Detection-2/data.yaml, epochs=10, patience=50, batch=16, imgsz=640, save=True, save_period=-1, cache=False, device=None, workers=8, project=None, name=None, exist_ok=False, pretrained=False, optimizer=SGD, verbose=True, seed=0, deterministic=True, single_cls=False, image_weights=False, rect=False, cos_lr=False, close_mosaic=0, resume=False, amp=True, overlap_mask=True, mask_ratio=4, dropout=0.0, val=True, split=val, save_json=False, save_hybrid=False, conf=None, iou=0.7, max_det=300, half=False, dnn=False, plots=True, source=None, show=False, save_txt=False, save_conf=False, save_crop=False, show_labels=True, show_conf=True, vid_stride=1, line_thickness=3, visualize=False, augment=False, agnostic_nms=False, classes=None, retina_masks=False, boxes=True, format=torchscript, keras=False, optimize=False, int8=False, dynamic=False, simplify=False, opset=None, workspace=4, nms=False, lr0=0.01, lrf=0.01, momentum=0.937, weight_decay=0.0005, warmup_epochs=3.0, warmup_momentum=0.8, warmup_bias_lr=0.1, box=7.5, cls=0.5, dfl=1.5, pose=12.0, kobj=1.0, label_smoothing=0.0, nbs=64, hsv_h=0.015, hsv_s=0.7, hsv_v=0.4, degrees=0.0, translate=0.1, scale=0.5, shear=0.0, perspective=0.0, flipud=0.0, fliplr=0.5, mosaic=1.0, mixup=0.0, copy_paste=0.0, cfg=None, v5loader=False, tracker=botsort.yaml, save_dir=/Users/kenjohnson/Documents/Projects/Personal/Table Tennis/runs/detect/train16\n",
      "Fontconfig warning: ignoring UTF-8: not a valid region tag\n",
      "Overriding model.yaml nc=80 with nc=1\n",
      "\n",
      "                   from  n    params  module                                       arguments                     \n",
      "  0                  -1  1       464  ultralytics.nn.modules.Conv                  [3, 16, 3, 2]                 \n",
      "  1                  -1  1      4672  ultralytics.nn.modules.Conv                  [16, 32, 3, 2]                \n",
      "  2                  -1  1      7360  ultralytics.nn.modules.C2f                   [32, 32, 1, True]             \n",
      "  3                  -1  1     18560  ultralytics.nn.modules.Conv                  [32, 64, 3, 2]                \n",
      "  4                  -1  2     49664  ultralytics.nn.modules.C2f                   [64, 64, 2, True]             \n",
      "  5                  -1  1     73984  ultralytics.nn.modules.Conv                  [64, 128, 3, 2]               \n",
      "  6                  -1  2    197632  ultralytics.nn.modules.C2f                   [128, 128, 2, True]           \n",
      "  7                  -1  1    295424  ultralytics.nn.modules.Conv                  [128, 256, 3, 2]              \n",
      "  8                  -1  1    460288  ultralytics.nn.modules.C2f                   [256, 256, 1, True]           \n",
      "  9                  -1  1    164608  ultralytics.nn.modules.SPPF                  [256, 256, 5]                 \n",
      " 10                  -1  1         0  torch.nn.modules.upsampling.Upsample         [None, 2, 'nearest']          \n",
      " 11             [-1, 6]  1         0  ultralytics.nn.modules.Concat                [1]                           \n",
      " 12                  -1  1    148224  ultralytics.nn.modules.C2f                   [384, 128, 1]                 \n",
      " 13                  -1  1         0  torch.nn.modules.upsampling.Upsample         [None, 2, 'nearest']          \n",
      " 14             [-1, 4]  1         0  ultralytics.nn.modules.Concat                [1]                           \n",
      " 15                  -1  1     37248  ultralytics.nn.modules.C2f                   [192, 64, 1]                  \n",
      " 16                  -1  1     36992  ultralytics.nn.modules.Conv                  [64, 64, 3, 2]                \n",
      " 17            [-1, 12]  1         0  ultralytics.nn.modules.Concat                [1]                           \n",
      " 18                  -1  1    123648  ultralytics.nn.modules.C2f                   [192, 128, 1]                 \n",
      " 19                  -1  1    147712  ultralytics.nn.modules.Conv                  [128, 128, 3, 2]              \n",
      " 20             [-1, 9]  1         0  ultralytics.nn.modules.Concat                [1]                           \n",
      " 21                  -1  1    493056  ultralytics.nn.modules.C2f                   [384, 256, 1]                 \n",
      " 22        [15, 18, 21]  1    751507  ultralytics.nn.modules.Detect                [1, [64, 128, 256]]           \n",
      "Model summary: 225 layers, 3011043 parameters, 3011027 gradients, 8.2 GFLOPs\n",
      "\n",
      "Transferred 319/355 items from pretrained weights\n",
      "\u001b[34m\u001b[1mTensorBoard: \u001b[0mStart with 'tensorboard --logdir /Users/kenjohnson/Documents/Projects/Personal/Table Tennis/runs/detect/train16', view at http://localhost:6006/\n",
      "\u001b[34m\u001b[1moptimizer:\u001b[0m SGD(lr=0.01) with parameter groups 57 weight(decay=0.0), 64 weight(decay=0.0005), 63 bias\n",
      "\u001b[34m\u001b[1mtrain: \u001b[0mScanning /Users/kenjohnson/Documents/Projects/Personal/Table Tennis/Ball-Detection-2/train/labels... 184 images, 20 backgrounds, 0 corrupt: 100%|██████████| 184/184 [00:00<00:00, 1478.66it/s]\n",
      "\u001b[34m\u001b[1mtrain: \u001b[0mNew cache created: /Users/kenjohnson/Documents/Projects/Personal/Table Tennis/Ball-Detection-2/train/labels.cache\n",
      "\u001b[34m\u001b[1mval: \u001b[0mScanning /Users/kenjohnson/Documents/Projects/Personal/Table Tennis/Ball-Detection-2/valid/labels... 52 images, 9 backgrounds, 0 corrupt: 100%|██████████| 52/52 [00:00<00:00, 3971.81it/s]\n",
      "\u001b[34m\u001b[1mval: \u001b[0mNew cache created: /Users/kenjohnson/Documents/Projects/Personal/Table Tennis/Ball-Detection-2/valid/labels.cache\n",
      "Plotting labels to /Users/kenjohnson/Documents/Projects/Personal/Table Tennis/runs/detect/train16/labels.jpg... \n",
      "Image sizes 640 train, 640 val\n",
      "Using 0 dataloader workers\n",
      "Logging results to \u001b[1m/Users/kenjohnson/Documents/Projects/Personal/Table Tennis/runs/detect/train16\u001b[0m\n",
      "Starting training for 10 epochs...\n",
      "\n",
      "      Epoch    GPU_mem   box_loss   cls_loss   dfl_loss  Instances       Size\n",
      "       1/10         0G      3.344      29.33      0.989         11        640: 100%|██████████| 12/12 [01:51<00:00,  9.30s/it]\n",
      "                 Class     Images  Instances      Box(P          R      mAP50  mAP50-95): 100%|██████████| 2/2 [00:11<00:00,  5.76s/it]\n",
      "                   all         52         43          0          0          0          0\n",
      "\n",
      "      Epoch    GPU_mem   box_loss   cls_loss   dfl_loss  Instances       Size\n",
      "       2/10         0G      3.219      6.674      1.018          7        640: 100%|██████████| 12/12 [02:23<00:00, 11.94s/it]\n",
      "                 Class     Images  Instances      Box(P          R      mAP50  mAP50-95): 100%|██████████| 2/2 [00:15<00:00,  7.51s/it]\n",
      "                   all         52         43          0          0          0          0\n",
      "\n",
      "      Epoch    GPU_mem   box_loss   cls_loss   dfl_loss  Instances       Size\n",
      "       3/10         0G      3.786      5.902     0.9521         10        640: 100%|██████████| 12/12 [02:19<00:00, 11.66s/it]\n",
      "                 Class     Images  Instances      Box(P          R      mAP50  mAP50-95): 100%|██████████| 2/2 [00:11<00:00,  5.60s/it]\n",
      "                   all         52         43          0          0          0          0\n",
      "\n",
      "      Epoch    GPU_mem   box_loss   cls_loss   dfl_loss  Instances       Size\n",
      "       4/10         0G      3.345      4.522     0.9231         14        640: 100%|██████████| 12/12 [01:48<00:00,  9.01s/it]\n",
      "                 Class     Images  Instances      Box(P          R      mAP50  mAP50-95): 100%|██████████| 2/2 [00:12<00:00,  6.11s/it]\n",
      "                   all         52         43          1     0.0233      0.512      0.205\n",
      "\n",
      "      Epoch    GPU_mem   box_loss   cls_loss   dfl_loss  Instances       Size\n",
      "       5/10         0G      3.493      3.721     0.9484          9        640: 100%|██████████| 12/12 [02:02<00:00, 10.17s/it]\n",
      "                 Class     Images  Instances      Box(P          R      mAP50  mAP50-95): 100%|██████████| 2/2 [00:12<00:00,  6.29s/it]\n",
      "                   all         52         43          1     0.0233      0.512     0.0512\n",
      "\n",
      "      Epoch    GPU_mem   box_loss   cls_loss   dfl_loss  Instances       Size\n",
      "       6/10         0G      3.472      3.237     0.9311          9        640: 100%|██████████| 12/12 [02:16<00:00, 11.37s/it]\n",
      "                 Class     Images  Instances      Box(P          R      mAP50  mAP50-95): 100%|██████████| 2/2 [00:17<00:00,  8.73s/it]\n",
      "                   all         52         43      0.324      0.279      0.277     0.0857\n",
      "\n",
      "      Epoch    GPU_mem   box_loss   cls_loss   dfl_loss  Instances       Size\n",
      "       7/10         0G      3.415      2.965     0.9135          8        640: 100%|██████████| 12/12 [02:35<00:00, 12.94s/it]\n",
      "                 Class     Images  Instances      Box(P          R      mAP50  mAP50-95): 100%|██████████| 2/2 [00:14<00:00,  7.43s/it]\n",
      "                   all         52         43      0.355      0.256      0.254     0.0787\n",
      "\n",
      "      Epoch    GPU_mem   box_loss   cls_loss   dfl_loss  Instances       Size\n",
      "       8/10         0G      3.399      2.632     0.8975          9        640: 100%|██████████| 12/12 [02:36<00:00, 13.07s/it]\n",
      "                 Class     Images  Instances      Box(P          R      mAP50  mAP50-95): 100%|██████████| 2/2 [00:14<00:00,  7.02s/it]\n",
      "                   all         52         43      0.202      0.465      0.218     0.0663\n",
      "\n",
      "      Epoch    GPU_mem   box_loss   cls_loss   dfl_loss  Instances       Size\n",
      "       9/10         0G      3.216       2.75     0.9088          8        640: 100%|██████████| 12/12 [01:57<00:00,  9.76s/it]\n",
      "                 Class     Images  Instances      Box(P          R      mAP50  mAP50-95): 100%|██████████| 2/2 [00:11<00:00,  5.94s/it]\n",
      "                   all         52         43      0.261      0.674      0.513      0.161\n",
      "\n",
      "      Epoch    GPU_mem   box_loss   cls_loss   dfl_loss  Instances       Size\n",
      "      10/10         0G      3.105      2.549     0.9017          9        640: 100%|██████████| 12/12 [01:54<00:00,  9.57s/it]\n",
      "                 Class     Images  Instances      Box(P          R      mAP50  mAP50-95): 100%|██████████| 2/2 [00:12<00:00,  6.18s/it]\n",
      "                   all         52         43      0.174      0.535      0.342     0.0782\n",
      "\n",
      "10 epochs completed in 0.403 hours.\n",
      "Optimizer stripped from /Users/kenjohnson/Documents/Projects/Personal/Table Tennis/runs/detect/train16/weights/last.pt, 6.2MB\n",
      "Optimizer stripped from /Users/kenjohnson/Documents/Projects/Personal/Table Tennis/runs/detect/train16/weights/best.pt, 6.2MB\n",
      "\n",
      "Validating /Users/kenjohnson/Documents/Projects/Personal/Table Tennis/runs/detect/train16/weights/best.pt...\n",
      "Ultralytics YOLOv8.0.82 🚀 Python-3.9.15 torch-1.13.0 CPU\n",
      "Model summary (fused): 168 layers, 3005843 parameters, 0 gradients, 8.1 GFLOPs\n",
      "                 Class     Images  Instances      Box(P          R      mAP50  mAP50-95): 100%|██████████| 2/2 [00:11<00:00,  5.96s/it]\n",
      "                   all         52         43          1     0.0233      0.512      0.205\n",
      "Speed: 4.3ms preprocess, 208.8ms inference, 0.0ms loss, 0.4ms postprocess per image\n",
      "Results saved to \u001b[1m/Users/kenjohnson/Documents/Projects/Personal/Table Tennis/runs/detect/train16\u001b[0m\n"
     ]
    }
   ],
   "source": [
    "model.train(data=f\"{dataset.location}/data.yaml\", epochs=10, imgsz=640)"
   ]
  },
  {
   "cell_type": "code",
   "execution_count": 7,
   "metadata": {},
   "outputs": [
    {
     "name": "stderr",
     "output_type": "stream",
     "text": [
      "Ultralytics YOLOv8.0.82 🚀 Python-3.9.15 torch-1.13.0 CPU\n",
      "\u001b[34m\u001b[1mval: \u001b[0mScanning /Users/kenjohnson/Documents/Projects/Personal/Table Tennis/Ball-Detection-2/valid/labels.cache... 52 images, 9 backgrounds, 0 corrupt: 100%|██████████| 52/52 [00:00<?, ?it/s]\n",
      "                 Class     Images  Instances      Box(P          R      mAP50  mAP50-95): 100%|██████████| 4/4 [00:27<00:00,  6.88s/it]\n",
      "                   all         52         43          1     0.0233      0.512      0.205\n",
      "Speed: 19.1ms preprocess, 450.3ms inference, 0.0ms loss, 0.8ms postprocess per image\n",
      "Results saved to \u001b[1m/Users/kenjohnson/Documents/Projects/Personal/Table Tennis/runs/detect/val\u001b[0m\n"
     ]
    }
   ],
   "source": [
    "results = model.val(data=f\"{dataset.location}/data.yaml\")"
   ]
  },
  {
   "cell_type": "code",
   "execution_count": 6,
   "metadata": {},
   "outputs": [
    {
     "name": "stderr",
     "output_type": "stream",
     "text": [
      "\n",
      "image 1/27 /Users/kenjohnson/Documents/Projects/Personal/Table Tennis/Ball-Detection-2/test/images/0-0-111_jpeg.rf.c940040f62a23cb961f2ebac738db421.jpg: 640x640 (no detections), 1690.9ms\n",
      "image 2/27 /Users/kenjohnson/Documents/Projects/Personal/Table Tennis/Ball-Detection-2/test/images/0-0-116_jpeg.rf.a65ce00cbd95595d4b9f452c8af7c908.jpg: 640x640 (no detections), 1110.0ms\n",
      "image 3/27 /Users/kenjohnson/Documents/Projects/Personal/Table Tennis/Ball-Detection-2/test/images/0-0-117_jpeg.rf.e617257d18259db9db3abd2544b163fa.jpg: 640x640 (no detections), 825.5ms\n",
      "image 4/27 /Users/kenjohnson/Documents/Projects/Personal/Table Tennis/Ball-Detection-2/test/images/0-0-123_jpeg.rf.32a7cc0f935f4efad5476a6f810257ed.jpg: 640x640 (no detections), 1025.5ms\n",
      "image 5/27 /Users/kenjohnson/Documents/Projects/Personal/Table Tennis/Ball-Detection-2/test/images/0-0-126_jpeg.rf.84e6ff98bb5560230d8447dfcfe9f619.jpg: 640x640 (no detections), 940.3ms\n",
      "image 6/27 /Users/kenjohnson/Documents/Projects/Personal/Table Tennis/Ball-Detection-2/test/images/0-0-14_jpeg.rf.bf3b5f80d863a1071bdf702b7ddd9469.jpg: 640x640 (no detections), 674.2ms\n",
      "image 7/27 /Users/kenjohnson/Documents/Projects/Personal/Table Tennis/Ball-Detection-2/test/images/0-0-164_jpeg.rf.a525c9cdf161c087d77ec24594d50f28.jpg: 640x640 (no detections), 512.9ms\n",
      "image 8/27 /Users/kenjohnson/Documents/Projects/Personal/Table Tennis/Ball-Detection-2/test/images/0-0-192_jpeg.rf.f9d3d0fa11112825610c66b19a6f821f.jpg: 640x640 (no detections), 585.7ms\n",
      "image 9/27 /Users/kenjohnson/Documents/Projects/Personal/Table Tennis/Ball-Detection-2/test/images/0-0-212_jpeg.rf.3534fd2d465889251bd96aa2265ec251.jpg: 640x640 (no detections), 475.6ms\n",
      "image 10/27 /Users/kenjohnson/Documents/Projects/Personal/Table Tennis/Ball-Detection-2/test/images/0-0-220_jpeg.rf.1894ae1a1c972f040927d3a946110226.jpg: 640x640 (no detections), 605.0ms\n",
      "image 11/27 /Users/kenjohnson/Documents/Projects/Personal/Table Tennis/Ball-Detection-2/test/images/0-0-238_jpeg.rf.8a5a3f8b9fed7f0aa5ab525fb8fdfca3.jpg: 640x640 (no detections), 1122.2ms\n",
      "image 12/27 /Users/kenjohnson/Documents/Projects/Personal/Table Tennis/Ball-Detection-2/test/images/0-0-241_jpeg.rf.85422222fbf5c89b434e353d9af343a1.jpg: 640x640 (no detections), 837.8ms\n",
      "image 13/27 /Users/kenjohnson/Documents/Projects/Personal/Table Tennis/Ball-Detection-2/test/images/0-0-255_jpeg.rf.3155e0b5b4e626d228bed524d5d87c28.jpg: 640x640 (no detections), 1144.1ms\n",
      "image 14/27 /Users/kenjohnson/Documents/Projects/Personal/Table Tennis/Ball-Detection-2/test/images/0-0-2_jpeg.rf.461dbca700c6f06222c7c59f4940e934.jpg: 640x640 (no detections), 554.6ms\n",
      "image 15/27 /Users/kenjohnson/Documents/Projects/Personal/Table Tennis/Ball-Detection-2/test/images/0-0-32_jpeg.rf.206c242172ffc62dc5a52a2318a80352.jpg: 640x640 (no detections), 915.5ms\n",
      "image 16/27 /Users/kenjohnson/Documents/Projects/Personal/Table Tennis/Ball-Detection-2/test/images/0-0-39_jpeg.rf.83bca5b18d01fbfd621ba1fa02e14ed0.jpg: 640x640 (no detections), 822.4ms\n",
      "image 17/27 /Users/kenjohnson/Documents/Projects/Personal/Table Tennis/Ball-Detection-2/test/images/0-0-41_jpeg.rf.ddc0bea750df97bcb8ea4929fcaca886.jpg: 640x640 (no detections), 448.4ms\n",
      "image 18/27 /Users/kenjohnson/Documents/Projects/Personal/Table Tennis/Ball-Detection-2/test/images/0-0-42_jpeg.rf.fac37d1681929bb10d2b7127f13e685a.jpg: 640x640 (no detections), 522.7ms\n",
      "image 19/27 /Users/kenjohnson/Documents/Projects/Personal/Table Tennis/Ball-Detection-2/test/images/0-0-43_jpeg.rf.c4c64b9717f575153263cc37a4aa2139.jpg: 640x640 (no detections), 753.9ms\n",
      "image 20/27 /Users/kenjohnson/Documents/Projects/Personal/Table Tennis/Ball-Detection-2/test/images/0-0-45_jpeg.rf.333559414e0336970957776df639c8dc.jpg: 640x640 (no detections), 319.4ms\n",
      "image 21/27 /Users/kenjohnson/Documents/Projects/Personal/Table Tennis/Ball-Detection-2/test/images/0-0-48_jpeg.rf.ba9dae586c8412a730570ca357b812b1.jpg: 640x640 (no detections), 617.9ms\n",
      "image 22/27 /Users/kenjohnson/Documents/Projects/Personal/Table Tennis/Ball-Detection-2/test/images/0-0-57_jpeg.rf.31976496ad9f65e84aac8aec85a86baa.jpg: 640x640 (no detections), 423.3ms\n",
      "image 23/27 /Users/kenjohnson/Documents/Projects/Personal/Table Tennis/Ball-Detection-2/test/images/0-0-5_jpeg.rf.c038d042fa4f11d8d80031742a21d43a.jpg: 640x640 (no detections), 511.7ms\n",
      "image 24/27 /Users/kenjohnson/Documents/Projects/Personal/Table Tennis/Ball-Detection-2/test/images/0-0-6_jpeg.rf.2d2a15aa9151197722413cb2adc610b7.jpg: 640x640 (no detections), 953.6ms\n",
      "image 25/27 /Users/kenjohnson/Documents/Projects/Personal/Table Tennis/Ball-Detection-2/test/images/0-0-83_jpeg.rf.f564c18546da7935d07d811329a1ad0b.jpg: 640x640 (no detections), 1569.8ms\n",
      "image 26/27 /Users/kenjohnson/Documents/Projects/Personal/Table Tennis/Ball-Detection-2/test/images/0-0-91_jpeg.rf.c97c1e3c9c222f37874b635c24a80251.jpg: 640x640 (no detections), 768.1ms\n",
      "image 27/27 /Users/kenjohnson/Documents/Projects/Personal/Table Tennis/Ball-Detection-2/test/images/0-0-9_jpeg.rf.4acd53fa3ace426ae047366bcb0d4e4c.jpg: 640x640 (no detections), 464.0ms\n",
      "Speed: 13.1ms preprocess, 785.0ms inference, 0.8ms postprocess per image at shape (1, 3, 640, 640)\n",
      "Results saved to \u001b[1m/Users/kenjohnson/Documents/Projects/Personal/Table Tennis/runs/detect/predict4\u001b[0m\n"
     ]
    }
   ],
   "source": [
    "results = model.predict(source=f'{dataset.location}/test/images', save=True)"
   ]
  },
  {
   "cell_type": "code",
   "execution_count": 22,
   "metadata": {},
   "outputs": [
    {
     "name": "stdout",
     "output_type": "stream",
     "text": [
      "loading Roboflow workspace...\n",
      "loading Roboflow project...\n"
     ]
    }
   ],
   "source": [
    "rf = Roboflow(api_key=\"7ncFBCdmUBerMMm67kXx\")\n",
    "project = rf.workspace().project(\"ball-detection-ofm6m\")\n",
    "model = project.version(2).model"
   ]
  },
  {
   "cell_type": "code",
   "execution_count": null,
   "metadata": {},
   "outputs": [],
   "source": [
    "model.predict('')"
   ]
  },
  {
   "cell_type": "code",
   "execution_count": 21,
   "metadata": {},
   "outputs": [],
   "source": [
    "from PIL import Image, ImageDraw, ImageFont\n",
    "import os\n",
    "for filename in os.listdir('Ball-Detection-2/test/images'):\n",
    "    results = model.predict(f'Ball-Detection-2/test/images/{filename}', labels=True, stroke=100).predictions\n",
    "    f = f'Ball-Detection-2/test/images/{filename}'\n",
    "    image = Image.open(f)\n",
    "\n",
    "    draw = ImageDraw.Draw(image)\n",
    "    font = ImageFont.load_default()\n",
    "\n",
    "    for box in results:\n",
    "        color = \"#FF0000\"\n",
    "        x1 = box['x'] - box['width'] / 2\n",
    "        x2 = box['x'] + box['width'] / 2\n",
    "        y1 = box['y'] - box['height'] / 2\n",
    "        y2 = box['y'] + box['height'] / 2\n",
    "\n",
    "        draw.rectangle([\n",
    "            x1, y1, x2, y2\n",
    "        ], outline=color, width=1)\n",
    "\n",
    "    image.save(f'Ball-Detection-2/test/predictions/{filename}')"
   ]
  },
  {
   "cell_type": "code",
   "execution_count": 2,
   "metadata": {},
   "outputs": [
    {
     "data": {
      "text/plain": [
       "True"
      ]
     },
     "execution_count": 2,
     "metadata": {},
     "output_type": "execute_result"
    }
   ],
   "source": [
    "res_plotted = results[0].plot()\n",
    "cv2.imwrite(\"result.jpg\", res_plotted)"
   ]
  },
  {
   "cell_type": "code",
   "execution_count": 7,
   "metadata": {},
   "outputs": [
    {
     "ename": "KeyboardInterrupt",
     "evalue": "",
     "output_type": "error",
     "traceback": [
      "\u001b[0;31m---------------------------------------------------------------------------\u001b[0m",
      "\u001b[0;31mKeyboardInterrupt\u001b[0m                         Traceback (most recent call last)",
      "\u001b[1;32m/Users/kenjohnson/Documents/Projects/Personal/Table Tennis/ball_detection_yolov8.ipynb Cell 4\u001b[0m in \u001b[0;36m3\n\u001b[1;32m      <a href='vscode-notebook-cell:/Users/kenjohnson/Documents/Projects/Personal/Table%20Tennis/ball_detection_yolov8.ipynb#W3sZmlsZQ%3D%3D?line=0'>1</a>\u001b[0m \u001b[39mfor\u001b[39;00m i, result \u001b[39min\u001b[39;00m \u001b[39menumerate\u001b[39m(results):\n\u001b[1;32m      <a href='vscode-notebook-cell:/Users/kenjohnson/Documents/Projects/Personal/Table%20Tennis/ball_detection_yolov8.ipynb#W3sZmlsZQ%3D%3D?line=1'>2</a>\u001b[0m     res_plotted \u001b[39m=\u001b[39m result\u001b[39m.\u001b[39mplot()\n\u001b[0;32m----> <a href='vscode-notebook-cell:/Users/kenjohnson/Documents/Projects/Personal/Table%20Tennis/ball_detection_yolov8.ipynb#W3sZmlsZQ%3D%3D?line=2'>3</a>\u001b[0m     cv2\u001b[39m.\u001b[39;49mimwrite(\u001b[39mf\u001b[39;49m\u001b[39m\"\u001b[39;49m\u001b[39m./yolov8test/\u001b[39;49m\u001b[39m{\u001b[39;49;00mi\u001b[39m}\u001b[39;49;00m\u001b[39m.png\u001b[39;49m\u001b[39m\"\u001b[39;49m, res_plotted)\n",
      "\u001b[0;31mKeyboardInterrupt\u001b[0m: "
     ]
    }
   ],
   "source": [
    "for i, result in enumerate(results):\n",
    "    res_plotted = result.plot()\n",
    "    cv2.imwrite(f\"./yolov8test/{i}.png\", res_plotted)"
   ]
  },
  {
   "cell_type": "code",
   "execution_count": null,
   "metadata": {},
   "outputs": [],
   "source": []
  },
  {
   "cell_type": "code",
   "execution_count": null,
   "metadata": {},
   "outputs": [],
   "source": []
  }
 ],
 "metadata": {
  "kernelspec": {
   "display_name": "tt_env",
   "language": "python",
   "name": "python3"
  },
  "language_info": {
   "codemirror_mode": {
    "name": "ipython",
    "version": 3
   },
   "file_extension": ".py",
   "mimetype": "text/x-python",
   "name": "python",
   "nbconvert_exporter": "python",
   "pygments_lexer": "ipython3",
   "version": "3.9.15"
  },
  "orig_nbformat": 4,
  "vscode": {
   "interpreter": {
    "hash": "524fc15747148b2532d87f584d1b6e471ef51f3fa0e892e230957e0ba9637d40"
   }
  }
 },
 "nbformat": 4,
 "nbformat_minor": 2
}
