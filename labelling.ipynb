{
 "cells": [
  {
   "cell_type": "code",
   "execution_count": 77,
   "metadata": {},
   "outputs": [],
   "source": [
    "import numpy as np\n",
    "import cv2 as cv\n",
    "from collections import defaultdict, OrderedDict\n",
    "import json"
   ]
  },
  {
   "cell_type": "code",
   "execution_count": 78,
   "metadata": {},
   "outputs": [],
   "source": [
    "vid_num = 2\n",
    "events = defaultdict(dict)\n",
    "ball_radius = 25\n",
    "cap = cv.VideoCapture(f'imp/videos/videos_0/{vid_num}.mov')\n",
    "frame_rate = 5*round(cap.get(cv.CAP_PROP_FPS)/5)\n",
    "total_frames = int(cap.get(cv.CAP_PROP_FRAME_COUNT))\n",
    "frame_width = int(cap.get(cv.CAP_PROP_FRAME_WIDTH))\n",
    "frame_height = int(cap.get(cv.CAP_PROP_FRAME_HEIGHT))\n",
    "backSub = cv.createBackgroundSubtractorMOG2()"
   ]
  },
  {
   "cell_type": "code",
   "execution_count": 79,
   "metadata": {},
   "outputs": [],
   "source": [
    "def annotate(frame, frame_i):\n",
    "    frame_copy = frame.copy()\n",
    "    label_count = 2\n",
    "    cv.putText(frame_copy, str(frame_i), (int(frame_width/2) - 50, 100), cv.FONT_HERSHEY_SIMPLEX, 2, (255, 0, 0), 5)\n",
    "    for key in events[str(frame_i)].keys():\n",
    "        if key == \"ballCoord\":\n",
    "            x, y = events[str(frame_i)][key]\n",
    "            cv.rectangle(frame_copy, (x-ball_radius, y-ball_radius), (x+ball_radius, y+ball_radius), (255, 0, 0), 1)\n",
    "        elif key == \"shot\":\n",
    "            x_pos = 50 if events[str(frame_i)][\"shot\"][\"player\"] == \"near\" else frame_width - 500\n",
    "            cv.putText(frame_copy, events[str(frame_i)][\"shot\"][\"name\"], (x_pos, 100), cv.FONT_HERSHEY_SIMPLEX, 2, (255, 0, 0), 5)\n",
    "        else:\n",
    "            # bounce\n",
    "            cv.putText(frame_copy, key, (int(frame_width/2) - 100, 200), cv.FONT_HERSHEY_SIMPLEX, 2, (255, 0, 0), 5)\n",
    "            label_count += 1\n",
    "    cv.imshow('frame', frame_copy)"
   ]
  },
  {
   "cell_type": "code",
   "execution_count": 80,
   "metadata": {},
   "outputs": [],
   "source": [
    "def handleMouseClick(event, x, y, flags, param):\n",
    "    if event == cv.EVENT_LBUTTONUP:\n",
    "        events[str(param[\"frameNum\"])][\"ballCoord\"] = (x, y)\n",
    "        annotate(param[\"frame\"], param[\"frameNum\"])"
   ]
  },
  {
   "cell_type": "code",
   "execution_count": 81,
   "metadata": {},
   "outputs": [],
   "source": [
    "shot_mappings = {\n",
    "    96: {\"name\": \"F Loop\", \"player\": \"near\", \"key\": \"`\"},\n",
    "    49: {\"name\": \"B Loop\", \"player\": \"near\", \"key\": \"1\"},\n",
    "    50: {\"name\": \"F Drive\", \"player\": \"near\", \"key\": \"2\"},\n",
    "    51: {\"name\": \"B Drive\", \"player\": \"near\", \"key\": \"3\"},\n",
    "    52: {\"name\": \"F Flick\", \"player\": \"near\", \"key\": \"4\"},\n",
    "    53: {\"name\": \"B Flick\", \"player\": \"near\", \"key\": \"5\"},\n",
    "    54: {\"name\": \"F Lob\", \"player\": \"near\", \"key\": \"6\"},\n",
    "    55: {\"name\": \"B Lob\", \"player\": \"near\", \"key\": \"7\"},\n",
    "    56: {\"name\": \"F Push\", \"player\": \"near\", \"key\": \"8\"},\n",
    "    57: {\"name\": \"B Push\", \"player\": \"near\", \"key\": \"9\"},\n",
    "    48: {\"name\": \"F Chop\", \"player\": \"near\", \"key\": \"0\"},\n",
    "    45: {\"name\": \"B Chop\", \"player\": \"near\", \"key\": \"-\"},\n",
    "    61: {\"name\": \"F Smash\", \"player\": \"near\", \"key\": \"=\"},\n",
    "    9: {\"name\": \"B Smash\", \"player\": \"near\", \"key\": \"TAB\"},\n",
    "    113: {\"name\": \"F Block\", \"player\": \"near\", \"key\": \"q\"},\n",
    "    119: {\"name\": \"B Block\", \"player\": \"near\", \"key\": \"w\"},\n",
    "    101: {\"name\": \"F Pend Serve\", \"player\": \"near\", \"key\": \"e\"},\n",
    "    114: {\"name\": \"B Pend Serve\", \"player\": \"near\", \"key\": \"r\"},\n",
    "    116: {\"name\": \"Other\", \"player\": \"near\", \"key\": \"t\"},\n",
    "    121: {\"name\": \"Win Point\", \"player\": \"near\", \"key\": \"y\"},\n",
    "    \n",
    "    126: {\"name\": \"F Loop\", \"player\": \"far\", \"key\": \"~\"},\n",
    "    33: {\"name\": \"B Loop\", \"player\": \"far\", \"key\": \"!\"},\n",
    "    64: {\"name\": \"F Drive\", \"player\": \"far\", \"key\": \"@\"},\n",
    "    35: {\"name\": \"B Drive\", \"player\": \"far\", \"key\": \"#\"},\n",
    "    36: {\"name\": \"F Flick\", \"player\": \"far\", \"key\": \"$\"},\n",
    "    37: {\"name\": \"B Flick\", \"player\": \"far\", \"key\": \"%\"},\n",
    "    94: {\"name\": \"F Lob\", \"player\": \"far\", \"key\": \"^\"},\n",
    "    38: {\"name\": \"B Lob\", \"player\": \"far\", \"key\": \"&\"},\n",
    "    42: {\"name\": \"F Push\", \"player\": \"far\", \"key\": \"*\"},\n",
    "    40: {\"name\": \"B Push\", \"player\": \"far\", \"key\": \"(\"},\n",
    "    41: {\"name\": \"F Chop\", \"player\": \"far\", \"key\": \")\"},\n",
    "    95: {\"name\": \"B Chop\", \"player\": \"far\", \"key\": \"_\"},\n",
    "    43: {\"name\": \"F Smash\", \"player\": \"far\", \"key\": \"+\"},\n",
    "    25: {\"name\": \"B Smash\", \"player\": \"far\", \"key\": \"SHFT TAB\"},\n",
    "    81: {\"name\": \"F Block\", \"player\": \"far\", \"key\": \"Q\"},\n",
    "    87: {\"name\": \"B Block\", \"player\": \"far\", \"key\": \"W\"},\n",
    "    69: {\"name\": \"F Pend Serve\", \"player\": \"far\", \"key\": \"E\"},\n",
    "    82: {\"name\": \"B Pend Serve\", \"player\": \"far\", \"key\": \"R\"},\n",
    "    84: {\"name\": \"Other\", \"player\": \"far\", \"key\": \"T\"},\n",
    "    89: {\"name\": \"Win Point\", \"player\": \"far\", \"key\": \"Y\"},\n",
    "}"
   ]
  },
  {
   "cell_type": "code",
   "execution_count": 82,
   "metadata": {},
   "outputs": [],
   "source": [
    "frame_i = 0\n",
    "is_back_sub = False\n",
    "while cap.isOpened():\n",
    "    ret, frame = cap.read()\n",
    "    if not ret:\n",
    "        cap.release()\n",
    "        cv.destroyAllWindows()\n",
    "        cv.waitKey(1)\n",
    "        break\n",
    "    cv.setMouseCallback('frame', lambda event, x, y, flags, param: handleMouseClick(event, x, y, flags, param={\"frame\": frame, \"frameNum\": frame_i}))\n",
    "    annotate(frame, frame_i)\n",
    "    back_sub_frame = backSub.apply(frame)\n",
    "    key = -1\n",
    "    while key not in [0, 1, 2, 3]:\n",
    "        cur_frame = frame\n",
    "        key = cv.waitKey(0)\n",
    "        if key == 0: ##### ARROWS #####\n",
    "            # up arrow\n",
    "            skip_frames = 30\n",
    "            frame_i += skip_frames\n",
    "            cap.set(cv.CAP_PROP_POS_MSEC, cap.get(cv.CAP_PROP_POS_MSEC) + skip_frames * 1000 / frame_rate)\n",
    "        elif key == 1:\n",
    "            # down arrow\n",
    "            skip_frames = 5\n",
    "            frame_i -= skip_frames\n",
    "            cap.set(cv.CAP_PROP_POS_MSEC, cap.get(cv.CAP_PROP_POS_MSEC) - skip_frames * 1000 / frame_rate)\n",
    "        elif key == 2:\n",
    "            # back arrow\n",
    "            is_back_sub = False\n",
    "            frame_i = frame_i - 1 if frame_i > 0 else frame_i\n",
    "            cap.set(cv.CAP_PROP_POS_MSEC, cap.get(cv.CAP_PROP_POS_MSEC)-1000/frame_rate)\n",
    "        elif key == 3:\n",
    "            # next arrow\n",
    "            is_back_sub = False\n",
    "            frame_i += 1\n",
    "        elif key in shot_mappings: ##### SHOT TYPES #####\n",
    "            is_back_sub = False\n",
    "            events[str(frame_i)][\"shot\"] = {\"name\": shot_mappings[key][\"name\"], \"player\": shot_mappings[key][\"player\"]}\n",
    "            annotate(cur_frame, frame_i)\n",
    "        elif key == ord('b'):\n",
    "            # indicate bounce\n",
    "            events[str(frame_i)][\"bounce\"] = True\n",
    "            annotate(cur_frame, frame_i)\n",
    "        elif key == ord('n'):\n",
    "            # indicate net contact\n",
    "            events[str(frame_i)][\"net\"] = True\n",
    "            annotate(cur_frame, frame_i)\n",
    "        elif key == ord('m'):\n",
    "            if not is_back_sub:\n",
    "                cur_frame = back_sub_frame\n",
    "            is_back_sub = not is_back_sub\n",
    "            annotate(cur_frame, frame_i)\n",
    "        elif key == 127:\n",
    "            # DEL clear screen\n",
    "            events[str(frame_i)] = {}\n",
    "            annotate(cur_frame, frame_i)\n",
    "        elif key == 27:\n",
    "            # ESC to quit\n",
    "            cap.release()\n",
    "            cv.destroyAllWindows()\n",
    "            cv.waitKey(1)\n",
    "            break\n",
    "\n",
    "\n",
    "    "
   ]
  },
  {
   "cell_type": "code",
   "execution_count": 83,
   "metadata": {},
   "outputs": [
    {
     "ename": "",
     "evalue": "",
     "output_type": "error",
     "traceback": [
      "\u001b[1;31mThe Kernel crashed while executing code in the the current cell or a previous cell. Please review the code in the cell(s) to identify a possible cause of the failure. Click <a href='https://aka.ms/vscodeJupyterKernelCrash'>here</a> for more info. View Jupyter <a href='command:jupyter.viewOutput'>log</a> for further details."
     ]
    }
   ],
   "source": [
    "# filter out all empty frames\n",
    "filtered_events = dict()\n",
    "for (key, value) in events.items():\n",
    "    if value:\n",
    "        filtered_events[key] = value\n",
    "with open(f'imp/videos/labels_0/{vid_num}.json', \"w\") as outfile:\n",
    "    json.dump(OrderedDict(sorted(filtered_events.items(), key=lambda t: int(t[0]))), outfile)"
   ]
  },
  {
   "cell_type": "code",
   "execution_count": 46,
   "metadata": {},
   "outputs": [
    {
     "name": "stdout",
     "output_type": "stream",
     "text": [
      "127\n",
      "127\n",
      "127\n",
      "127\n",
      "27\n"
     ]
    }
   ],
   "source": [
    "import cv2 as cv\n",
    "import numpy as np\n",
    "while True:\n",
    "    cv.imshow(\"test\", np.zeros((100, 100, 3), dtype=np.uint8))\n",
    "    key = cv.waitKey(0)\n",
    "    print(key)\n",
    "    if key == 27:\n",
    "        cv.destroyAllWindows()\n",
    "        break"
   ]
  }
 ],
 "metadata": {
  "kernelspec": {
   "display_name": "Python 3.10.8 ('tt_env': venv)",
   "language": "python",
   "name": "python3"
  },
  "language_info": {
   "codemirror_mode": {
    "name": "ipython",
    "version": 3
   },
   "file_extension": ".py",
   "mimetype": "text/x-python",
   "name": "python",
   "nbconvert_exporter": "python",
   "pygments_lexer": "ipython3",
   "version": "3.9.15"
  },
  "orig_nbformat": 4,
  "vscode": {
   "interpreter": {
    "hash": "524fc15747148b2532d87f584d1b6e471ef51f3fa0e892e230957e0ba9637d40"
   }
  }
 },
 "nbformat": 4,
 "nbformat_minor": 2
}
