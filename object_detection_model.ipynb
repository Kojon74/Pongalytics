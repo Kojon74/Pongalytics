{
 "cells": [
  {
   "cell_type": "code",
   "execution_count": 3,
   "metadata": {},
   "outputs": [],
   "source": [
    "from tflite_model_maker import model_spec, object_detector"
   ]
  },
  {
   "cell_type": "code",
   "execution_count": 4,
   "metadata": {},
   "outputs": [
    {
     "name": "stdout",
     "output_type": "stream",
     "text": [
      "INFO:tensorflow:Cache will be stored in /var/folders/s3/v3l8xgqd3xdgc1ll_pmdv1qr0000gn/T/tmpe18ls__n with prefix filename train_8d9f41f873fea8253acf43d653f6a449. Cache_prefix is /var/folders/s3/v3l8xgqd3xdgc1ll_pmdv1qr0000gn/T/tmpe18ls__n/train_8d9f41f873fea8253acf43d653f6a449\n"
     ]
    },
    {
     "name": "stderr",
     "output_type": "stream",
     "text": [
      "INFO:tensorflow:Cache will be stored in /var/folders/s3/v3l8xgqd3xdgc1ll_pmdv1qr0000gn/T/tmpe18ls__n with prefix filename train_8d9f41f873fea8253acf43d653f6a449. Cache_prefix is /var/folders/s3/v3l8xgqd3xdgc1ll_pmdv1qr0000gn/T/tmpe18ls__n/train_8d9f41f873fea8253acf43d653f6a449\n"
     ]
    },
    {
     "name": "stdout",
     "output_type": "stream",
     "text": [
      "INFO:tensorflow:Cache will be stored in /var/folders/s3/v3l8xgqd3xdgc1ll_pmdv1qr0000gn/T/tmpnvc29y1w with prefix filename val_8d9f41f873fea8253acf43d653f6a449. Cache_prefix is /var/folders/s3/v3l8xgqd3xdgc1ll_pmdv1qr0000gn/T/tmpnvc29y1w/val_8d9f41f873fea8253acf43d653f6a449\n"
     ]
    },
    {
     "name": "stderr",
     "output_type": "stream",
     "text": [
      "INFO:tensorflow:Cache will be stored in /var/folders/s3/v3l8xgqd3xdgc1ll_pmdv1qr0000gn/T/tmpnvc29y1w with prefix filename val_8d9f41f873fea8253acf43d653f6a449. Cache_prefix is /var/folders/s3/v3l8xgqd3xdgc1ll_pmdv1qr0000gn/T/tmpnvc29y1w/val_8d9f41f873fea8253acf43d653f6a449\n"
     ]
    },
    {
     "name": "stdout",
     "output_type": "stream",
     "text": [
      "INFO:tensorflow:Cache will be stored in /var/folders/s3/v3l8xgqd3xdgc1ll_pmdv1qr0000gn/T/tmpf41p9rpw with prefix filename test_8d9f41f873fea8253acf43d653f6a449. Cache_prefix is /var/folders/s3/v3l8xgqd3xdgc1ll_pmdv1qr0000gn/T/tmpf41p9rpw/test_8d9f41f873fea8253acf43d653f6a449\n"
     ]
    },
    {
     "name": "stderr",
     "output_type": "stream",
     "text": [
      "INFO:tensorflow:Cache will be stored in /var/folders/s3/v3l8xgqd3xdgc1ll_pmdv1qr0000gn/T/tmpf41p9rpw with prefix filename test_8d9f41f873fea8253acf43d653f6a449. Cache_prefix is /var/folders/s3/v3l8xgqd3xdgc1ll_pmdv1qr0000gn/T/tmpf41p9rpw/test_8d9f41f873fea8253acf43d653f6a449\n"
     ]
    },
    {
     "name": "stdout",
     "output_type": "stream",
     "text": [
      "INFO:tensorflow:On image 0\n"
     ]
    },
    {
     "name": "stderr",
     "output_type": "stream",
     "text": [
      "INFO:tensorflow:On image 0\n"
     ]
    },
    {
     "name": "stdout",
     "output_type": "stream",
     "text": [
      "INFO:tensorflow:On image 100\n"
     ]
    },
    {
     "name": "stderr",
     "output_type": "stream",
     "text": [
      "INFO:tensorflow:On image 100\n"
     ]
    },
    {
     "name": "stdout",
     "output_type": "stream",
     "text": [
      "INFO:tensorflow:On image 200\n"
     ]
    },
    {
     "name": "stderr",
     "output_type": "stream",
     "text": [
      "INFO:tensorflow:On image 200\n"
     ]
    },
    {
     "name": "stdout",
     "output_type": "stream",
     "text": [
      "INFO:tensorflow:On image 300\n"
     ]
    },
    {
     "name": "stderr",
     "output_type": "stream",
     "text": [
      "INFO:tensorflow:On image 300\n"
     ]
    },
    {
     "name": "stdout",
     "output_type": "stream",
     "text": [
      "INFO:tensorflow:On image 400\n"
     ]
    },
    {
     "name": "stderr",
     "output_type": "stream",
     "text": [
      "INFO:tensorflow:On image 400\n"
     ]
    },
    {
     "name": "stdout",
     "output_type": "stream",
     "text": [
      "INFO:tensorflow:On image 500\n"
     ]
    },
    {
     "name": "stderr",
     "output_type": "stream",
     "text": [
      "INFO:tensorflow:On image 500\n"
     ]
    },
    {
     "name": "stdout",
     "output_type": "stream",
     "text": [
      "INFO:tensorflow:On image 600\n"
     ]
    },
    {
     "name": "stderr",
     "output_type": "stream",
     "text": [
      "INFO:tensorflow:On image 600\n"
     ]
    },
    {
     "name": "stdout",
     "output_type": "stream",
     "text": [
      "INFO:tensorflow:On image 0\n"
     ]
    },
    {
     "name": "stderr",
     "output_type": "stream",
     "text": [
      "INFO:tensorflow:On image 0\n"
     ]
    },
    {
     "name": "stdout",
     "output_type": "stream",
     "text": [
      "INFO:tensorflow:On image 100\n"
     ]
    },
    {
     "name": "stderr",
     "output_type": "stream",
     "text": [
      "INFO:tensorflow:On image 100\n"
     ]
    }
   ],
   "source": [
    "train_data, validation_data, test_data = object_detector.DataLoader.from_csv(\"imp/videos/data/0.csv\", \"/Volumes/KESU/Table Tennis Dataset/video_0/\")"
   ]
  },
  {
   "cell_type": "code",
   "execution_count": 5,
   "metadata": {},
   "outputs": [],
   "source": [
    "spec = model_spec.get('efficientdet_lite0')"
   ]
  },
  {
   "cell_type": "markdown",
   "metadata": {},
   "source": [
    "# AttributeError: module 'keras.api._v2.keras.mixed_precision' has no attribute 'experimental'\n",
    "Go into the file `venv/lib/python3.9/site-packages/tensorflow_examples/lite/model_maker/core/task/model_spec/object_detector_spec.py` and in line 233 and 234 change \n",
    "```\n",
    "policy = tf.keras.mixed_precision.experimental.Policy(precision)\n",
    "tf.keras.mixed_precision.experimental.set__policy(policy)\n",
    "```\n",
    "to\n",
    "```\n",
    "policy = tf.keras.mixed_precision.Policy(precision)\n",
    "tf.keras.mixed_precision.set_global_policy(policy)\n",
    "```\n",
    "Then restart kernel and rerun all the cells"
   ]
  },
  {
   "cell_type": "code",
   "execution_count": 6,
   "metadata": {},
   "outputs": [
    {
     "name": "stdout",
     "output_type": "stream",
     "text": [
      "INFO:tensorflow:Retraining the models...\n"
     ]
    },
    {
     "name": "stderr",
     "output_type": "stream",
     "text": [
      "INFO:tensorflow:Retraining the models...\n"
     ]
    },
    {
     "name": "stdout",
     "output_type": "stream",
     "text": [
      "Epoch 1/10\n"
     ]
    },
    {
     "name": "stderr",
     "output_type": "stream",
     "text": [
      "2022-11-23 02:00:52.684156: W tensorflow/core/framework/dataset.cc:768] Input of GeneratorDatasetOp::Dataset will not be optimized because the dataset does not implement the AsGraphDefInternal() method needed to apply optimizations.\n"
     ]
    },
    {
     "name": "stdout",
     "output_type": "stream",
     "text": [
      "63/63 [==============================] - ETA: 0s - det_loss: 2.5233 - cls_loss: 0.8957 - box_loss: 0.0326 - reg_l2_loss: 0.0632 - loss: 2.5865 - learning_rate: 0.0102 - gradient_norm: 7.4187"
     ]
    },
    {
     "name": "stderr",
     "output_type": "stream",
     "text": [
      "2022-11-23 02:06:56.112548: W tensorflow/core/framework/dataset.cc:768] Input of GeneratorDatasetOp::Dataset will not be optimized because the dataset does not implement the AsGraphDefInternal() method needed to apply optimizations.\n"
     ]
    },
    {
     "name": "stdout",
     "output_type": "stream",
     "text": [
      "63/63 [==============================] - 408s 6s/step - det_loss: 2.5073 - cls_loss: 0.8931 - box_loss: 0.0323 - reg_l2_loss: 0.0632 - loss: 2.5704 - learning_rate: 0.0102 - gradient_norm: 7.4520 - val_det_loss: 5.3116 - val_cls_loss: 3.6468 - val_box_loss: 0.0333 - val_reg_l2_loss: 0.0635 - val_loss: 5.3751\n",
      "Epoch 2/10\n",
      "63/63 [==============================] - ETA: 0s - det_loss: 1.0820 - cls_loss: 0.5391 - box_loss: 0.0109 - reg_l2_loss: 0.0637 - loss: 1.1456 - learning_rate: 0.0116 - gradient_norm: 5.4321"
     ]
    },
    {
     "name": "stderr",
     "output_type": "stream",
     "text": [
      "2022-11-23 02:12:57.141027: W tensorflow/core/framework/dataset.cc:768] Input of GeneratorDatasetOp::Dataset will not be optimized because the dataset does not implement the AsGraphDefInternal() method needed to apply optimizations.\n"
     ]
    },
    {
     "name": "stdout",
     "output_type": "stream",
     "text": [
      "63/63 [==============================] - 363s 6s/step - det_loss: 1.0837 - cls_loss: 0.5394 - box_loss: 0.0109 - reg_l2_loss: 0.0637 - loss: 1.1474 - learning_rate: 0.0116 - gradient_norm: 5.4311 - val_det_loss: 1.4729 - val_cls_loss: 0.7372 - val_box_loss: 0.0147 - val_reg_l2_loss: 0.0638 - val_loss: 1.5367\n",
      "Epoch 3/10\n",
      "63/63 [==============================] - ETA: 0s - det_loss: 0.8524 - cls_loss: 0.4610 - box_loss: 0.0078 - reg_l2_loss: 0.0639 - loss: 0.9163 - learning_rate: 0.0103 - gradient_norm: 4.7377"
     ]
    },
    {
     "name": "stderr",
     "output_type": "stream",
     "text": [
      "2022-11-23 02:18:58.686506: W tensorflow/core/framework/dataset.cc:768] Input of GeneratorDatasetOp::Dataset will not be optimized because the dataset does not implement the AsGraphDefInternal() method needed to apply optimizations.\n"
     ]
    },
    {
     "name": "stdout",
     "output_type": "stream",
     "text": [
      "63/63 [==============================] - 362s 6s/step - det_loss: 0.8497 - cls_loss: 0.4604 - box_loss: 0.0078 - reg_l2_loss: 0.0639 - loss: 0.9135 - learning_rate: 0.0102 - gradient_norm: 4.7194 - val_det_loss: 2.7548 - val_cls_loss: 0.8298 - val_box_loss: 0.0385 - val_reg_l2_loss: 0.0639 - val_loss: 2.8187\n",
      "Epoch 4/10\n",
      "63/63 [==============================] - ETA: 0s - det_loss: 0.7010 - cls_loss: 0.4068 - box_loss: 0.0059 - reg_l2_loss: 0.0640 - loss: 0.7650 - learning_rate: 0.0084 - gradient_norm: 4.2812"
     ]
    },
    {
     "name": "stderr",
     "output_type": "stream",
     "text": [
      "2022-11-23 02:25:23.781986: W tensorflow/core/framework/dataset.cc:768] Input of GeneratorDatasetOp::Dataset will not be optimized because the dataset does not implement the AsGraphDefInternal() method needed to apply optimizations.\n"
     ]
    },
    {
     "name": "stdout",
     "output_type": "stream",
     "text": [
      "63/63 [==============================] - 381s 6s/step - det_loss: 0.7001 - cls_loss: 0.4063 - box_loss: 0.0059 - reg_l2_loss: 0.0640 - loss: 0.7641 - learning_rate: 0.0084 - gradient_norm: 4.2742 - val_det_loss: 1.4717 - val_cls_loss: 0.5769 - val_box_loss: 0.0179 - val_reg_l2_loss: 0.0640 - val_loss: 1.5357\n",
      "Epoch 5/10\n",
      "63/63 [==============================] - ETA: 0s - det_loss: 0.6279 - cls_loss: 0.3920 - box_loss: 0.0047 - reg_l2_loss: 0.0640 - loss: 0.6920 - learning_rate: 0.0063 - gradient_norm: 3.8737"
     ]
    },
    {
     "name": "stderr",
     "output_type": "stream",
     "text": [
      "2022-11-23 02:31:14.814068: W tensorflow/core/framework/dataset.cc:768] Input of GeneratorDatasetOp::Dataset will not be optimized because the dataset does not implement the AsGraphDefInternal() method needed to apply optimizations.\n",
      "2022-11-23 02:31:58.239044: W tensorflow/core/framework/dataset.cc:768] Input of GeneratorDatasetOp::Dataset will not be optimized because the dataset does not implement the AsGraphDefInternal() method needed to apply optimizations.\n"
     ]
    },
    {
     "name": "stdout",
     "output_type": "stream",
     "text": [
      "loading annotations into memory...\n",
      "Done (t=0.00s)\n",
      "creating index...\n",
      "index created!\n",
      "Loading and preparing results...\n",
      "Converting ndarray to lists...\n",
      "(16000, 7)\n",
      "0/16000\n",
      "DONE (t=0.06s)\n",
      "creating index...\n",
      "index created!\n",
      "Running per image evaluation...\n",
      "Evaluate annotation type *bbox*\n",
      "DONE (t=1.06s).\n",
      "Accumulating evaluation results...\n",
      "DONE (t=0.09s).\n",
      " Average Precision  (AP) @[ IoU=0.50:0.95 | area=   all | maxDets=100 ] = 0.001\n",
      " Average Precision  (AP) @[ IoU=0.50      | area=   all | maxDets=100 ] = 0.003\n",
      " Average Precision  (AP) @[ IoU=0.75      | area=   all | maxDets=100 ] = 0.000\n",
      " Average Precision  (AP) @[ IoU=0.50:0.95 | area= small | maxDets=100 ] = -1.000\n",
      " Average Precision  (AP) @[ IoU=0.50:0.95 | area=medium | maxDets=100 ] = 0.001\n",
      " Average Precision  (AP) @[ IoU=0.50:0.95 | area= large | maxDets=100 ] = -1.000\n",
      " Average Recall     (AR) @[ IoU=0.50:0.95 | area=   all | maxDets=  1 ] = 0.009\n",
      " Average Recall     (AR) @[ IoU=0.50:0.95 | area=   all | maxDets= 10 ] = 0.020\n",
      " Average Recall     (AR) @[ IoU=0.50:0.95 | area=   all | maxDets=100 ] = 0.027\n",
      " Average Recall     (AR) @[ IoU=0.50:0.95 | area= small | maxDets=100 ] = -1.000\n",
      " Average Recall     (AR) @[ IoU=0.50:0.95 | area=medium | maxDets=100 ] = 0.027\n",
      " Average Recall     (AR) @[ IoU=0.50:0.95 | area= large | maxDets=100 ] = -1.000\n",
      "63/63 [==============================] - 388s 6s/step - det_loss: 0.6270 - cls_loss: 0.3922 - box_loss: 0.0047 - reg_l2_loss: 0.0640 - loss: 0.6911 - learning_rate: 0.0063 - gradient_norm: 3.8613 - val_det_loss: 0.8113 - val_cls_loss: 0.5841 - val_box_loss: 0.0045 - val_reg_l2_loss: 0.0640 - val_loss: 0.8753\n",
      "Epoch 6/10\n",
      "63/63 [==============================] - ETA: 0s - det_loss: 0.5351 - cls_loss: 0.3477 - box_loss: 0.0037 - reg_l2_loss: 0.0640 - loss: 0.5992 - learning_rate: 0.0041 - gradient_norm: 3.4670"
     ]
    },
    {
     "name": "stderr",
     "output_type": "stream",
     "text": [
      "2022-11-23 02:37:44.222740: W tensorflow/core/framework/dataset.cc:768] Input of GeneratorDatasetOp::Dataset will not be optimized because the dataset does not implement the AsGraphDefInternal() method needed to apply optimizations.\n"
     ]
    },
    {
     "name": "stdout",
     "output_type": "stream",
     "text": [
      "63/63 [==============================] - 352s 6s/step - det_loss: 0.5346 - cls_loss: 0.3471 - box_loss: 0.0038 - reg_l2_loss: 0.0640 - loss: 0.5987 - learning_rate: 0.0041 - gradient_norm: 3.4677 - val_det_loss: 0.8504 - val_cls_loss: 0.7263 - val_box_loss: 0.0025 - val_reg_l2_loss: 0.0640 - val_loss: 0.9144\n",
      "Epoch 7/10\n",
      "63/63 [==============================] - ETA: 0s - det_loss: 0.4792 - cls_loss: 0.3211 - box_loss: 0.0032 - reg_l2_loss: 0.0640 - loss: 0.5432 - learning_rate: 0.0023 - gradient_norm: 3.3752"
     ]
    },
    {
     "name": "stderr",
     "output_type": "stream",
     "text": [
      "2022-11-23 02:43:42.403542: W tensorflow/core/framework/dataset.cc:768] Input of GeneratorDatasetOp::Dataset will not be optimized because the dataset does not implement the AsGraphDefInternal() method needed to apply optimizations.\n"
     ]
    },
    {
     "name": "stdout",
     "output_type": "stream",
     "text": [
      "63/63 [==============================] - 357s 6s/step - det_loss: 0.4787 - cls_loss: 0.3209 - box_loss: 0.0032 - reg_l2_loss: 0.0640 - loss: 0.5427 - learning_rate: 0.0023 - gradient_norm: 3.3647 - val_det_loss: 0.7770 - val_cls_loss: 0.6496 - val_box_loss: 0.0025 - val_reg_l2_loss: 0.0640 - val_loss: 0.8410\n",
      "Epoch 8/10\n",
      "63/63 [==============================] - ETA: 0s - det_loss: 0.4410 - cls_loss: 0.3222 - box_loss: 0.0024 - reg_l2_loss: 0.0640 - loss: 0.5050 - learning_rate: 8.7341e-04 - gradient_norm: 2.9703"
     ]
    },
    {
     "name": "stderr",
     "output_type": "stream",
     "text": [
      "2022-11-23 02:49:28.030367: W tensorflow/core/framework/dataset.cc:768] Input of GeneratorDatasetOp::Dataset will not be optimized because the dataset does not implement the AsGraphDefInternal() method needed to apply optimizations.\n"
     ]
    },
    {
     "name": "stdout",
     "output_type": "stream",
     "text": [
      "63/63 [==============================] - 347s 5s/step - det_loss: 0.4434 - cls_loss: 0.3241 - box_loss: 0.0024 - reg_l2_loss: 0.0640 - loss: 0.5074 - learning_rate: 8.6584e-04 - gradient_norm: 2.9787 - val_det_loss: 0.7506 - val_cls_loss: 0.6459 - val_box_loss: 0.0021 - val_reg_l2_loss: 0.0640 - val_loss: 0.8146\n",
      "Epoch 9/10\n",
      "63/63 [==============================] - ETA: 0s - det_loss: 0.4206 - cls_loss: 0.3040 - box_loss: 0.0023 - reg_l2_loss: 0.0640 - loss: 0.4847 - learning_rate: 1.2916e-04 - gradient_norm: 2.7807"
     ]
    },
    {
     "name": "stderr",
     "output_type": "stream",
     "text": [
      "2022-11-23 02:55:19.152727: W tensorflow/core/framework/dataset.cc:768] Input of GeneratorDatasetOp::Dataset will not be optimized because the dataset does not implement the AsGraphDefInternal() method needed to apply optimizations.\n"
     ]
    },
    {
     "name": "stdout",
     "output_type": "stream",
     "text": [
      "63/63 [==============================] - 352s 6s/step - det_loss: 0.4251 - cls_loss: 0.3058 - box_loss: 0.0024 - reg_l2_loss: 0.0640 - loss: 0.4891 - learning_rate: 1.2714e-04 - gradient_norm: 2.7904 - val_det_loss: 0.7218 - val_cls_loss: 0.5810 - val_box_loss: 0.0028 - val_reg_l2_loss: 0.0640 - val_loss: 0.7858\n",
      "Epoch 10/10\n",
      "63/63 [==============================] - ETA: 0s - det_loss: 0.3882 - cls_loss: 0.2934 - box_loss: 0.0019 - reg_l2_loss: 0.0640 - loss: 0.4522 - learning_rate: 1.2318e-04 - gradient_norm: 2.8388"
     ]
    },
    {
     "name": "stderr",
     "output_type": "stream",
     "text": [
      "2022-11-23 03:01:05.069216: W tensorflow/core/framework/dataset.cc:768] Input of GeneratorDatasetOp::Dataset will not be optimized because the dataset does not implement the AsGraphDefInternal() method needed to apply optimizations.\n",
      "2022-11-23 03:01:48.440427: W tensorflow/core/framework/dataset.cc:768] Input of GeneratorDatasetOp::Dataset will not be optimized because the dataset does not implement the AsGraphDefInternal() method needed to apply optimizations.\n"
     ]
    },
    {
     "name": "stdout",
     "output_type": "stream",
     "text": [
      "loading annotations into memory...\n",
      "Done (t=0.00s)\n",
      "creating index...\n",
      "index created!\n",
      "Loading and preparing results...\n",
      "Converting ndarray to lists...\n",
      "(16000, 7)\n",
      "0/16000\n",
      "DONE (t=0.06s)\n",
      "creating index...\n",
      "index created!\n",
      "Running per image evaluation...\n",
      "Evaluate annotation type *bbox*\n",
      "DONE (t=0.95s).\n",
      "Accumulating evaluation results...\n",
      "DONE (t=0.09s).\n",
      " Average Precision  (AP) @[ IoU=0.50:0.95 | area=   all | maxDets=100 ] = 0.010\n",
      " Average Precision  (AP) @[ IoU=0.50      | area=   all | maxDets=100 ] = 0.032\n",
      " Average Precision  (AP) @[ IoU=0.75      | area=   all | maxDets=100 ] = 0.002\n",
      " Average Precision  (AP) @[ IoU=0.50:0.95 | area= small | maxDets=100 ] = -1.000\n",
      " Average Precision  (AP) @[ IoU=0.50:0.95 | area=medium | maxDets=100 ] = 0.010\n",
      " Average Precision  (AP) @[ IoU=0.50:0.95 | area= large | maxDets=100 ] = -1.000\n",
      " Average Recall     (AR) @[ IoU=0.50:0.95 | area=   all | maxDets=  1 ] = 0.037\n",
      " Average Recall     (AR) @[ IoU=0.50:0.95 | area=   all | maxDets= 10 ] = 0.069\n",
      " Average Recall     (AR) @[ IoU=0.50:0.95 | area=   all | maxDets=100 ] = 0.103\n",
      " Average Recall     (AR) @[ IoU=0.50:0.95 | area= small | maxDets=100 ] = -1.000\n",
      " Average Recall     (AR) @[ IoU=0.50:0.95 | area=medium | maxDets=100 ] = 0.103\n",
      " Average Recall     (AR) @[ IoU=0.50:0.95 | area= large | maxDets=100 ] = -1.000\n",
      "63/63 [==============================] - 380s 6s/step - det_loss: 0.3899 - cls_loss: 0.2943 - box_loss: 0.0019 - reg_l2_loss: 0.0640 - loss: 0.4540 - learning_rate: 1.2696e-04 - gradient_norm: 2.8426 - val_det_loss: 0.7104 - val_cls_loss: 0.5662 - val_box_loss: 0.0029 - val_reg_l2_loss: 0.0640 - val_loss: 0.7744\n"
     ]
    }
   ],
   "source": [
    "model = object_detector.create(train_data, model_spec=spec, batch_size=10, train_whole_model=True, epochs=10, validation_data=validation_data)"
   ]
  },
  {
   "cell_type": "code",
   "execution_count": 7,
   "metadata": {},
   "outputs": [
    {
     "name": "stdout",
     "output_type": "stream",
     "text": [
      "WARNING:tensorflow:Skipping full serialization of Keras layer <tensorflow_examples.lite.model_maker.core.task.model_spec.object_detector_spec.ExportModel object at 0x10d02ab20>, because it is not built.\n"
     ]
    },
    {
     "name": "stderr",
     "output_type": "stream",
     "text": [
      "WARNING:tensorflow:Skipping full serialization of Keras layer <tensorflow_examples.lite.model_maker.core.task.model_spec.object_detector_spec.ExportModel object at 0x10d02ab20>, because it is not built.\n",
      "WARNING:absl:Found untraced functions such as _jit_compiled_convolution_op, _jit_compiled_convolution_op, restored_function_body, restored_function_body, restored_function_body while saving (showing 5 of 610). These functions will not be directly callable after loading.\n"
     ]
    },
    {
     "name": "stdout",
     "output_type": "stream",
     "text": [
      "INFO:tensorflow:Assets written to: /var/folders/s3/v3l8xgqd3xdgc1ll_pmdv1qr0000gn/T/tmp9f6d589d/assets\n"
     ]
    },
    {
     "name": "stderr",
     "output_type": "stream",
     "text": [
      "INFO:tensorflow:Assets written to: /var/folders/s3/v3l8xgqd3xdgc1ll_pmdv1qr0000gn/T/tmp9f6d589d/assets\n",
      "2022-11-23 03:02:55.472650: W tensorflow/core/common_runtime/graph_constructor.cc:805] Node 'resample_p7/PartitionedCall' has 1 outputs but the _output_shapes attribute specifies shapes for 3 outputs. Output shapes may be inaccurate.\n"
     ]
    },
    {
     "name": "stdout",
     "output_type": "stream",
     "text": [
      "Estimated count of arithmetic ops: 1.752 G  ops, equivalently 0.876 G  MACs\n"
     ]
    },
    {
     "name": "stderr",
     "output_type": "stream",
     "text": [
      "2022-11-23 03:03:03.583881: W tensorflow/compiler/mlir/lite/python/tf_tfl_flatbuffer_helpers.cc:362] Ignored output_format.\n",
      "2022-11-23 03:03:03.583906: W tensorflow/compiler/mlir/lite/python/tf_tfl_flatbuffer_helpers.cc:365] Ignored drop_control_dependency.\n",
      "fully_quantize: 0, inference_type: 6, input_inference_type: 3, output_inference_type: 0\n"
     ]
    },
    {
     "name": "stdout",
     "output_type": "stream",
     "text": [
      "Estimated count of arithmetic ops: 1.752 G  ops, equivalently 0.876 G  MACs\n",
      "INFO:tensorflow:Label file is inside the TFLite model with metadata.\n"
     ]
    },
    {
     "name": "stderr",
     "output_type": "stream",
     "text": [
      "INFO:tensorflow:Label file is inside the TFLite model with metadata.\n"
     ]
    },
    {
     "name": "stdout",
     "output_type": "stream",
     "text": [
      "INFO:tensorflow:Saving labels in /var/folders/s3/v3l8xgqd3xdgc1ll_pmdv1qr0000gn/T/tmp0ktnfqku/labelmap.txt.\n"
     ]
    },
    {
     "name": "stderr",
     "output_type": "stream",
     "text": [
      "INFO:tensorflow:Saving labels in /var/folders/s3/v3l8xgqd3xdgc1ll_pmdv1qr0000gn/T/tmp0ktnfqku/labelmap.txt.\n"
     ]
    },
    {
     "name": "stdout",
     "output_type": "stream",
     "text": [
      "INFO:tensorflow:TensorFlow Lite model exported successfully: ./android.tflite\n"
     ]
    },
    {
     "name": "stderr",
     "output_type": "stream",
     "text": [
      "INFO:tensorflow:TensorFlow Lite model exported successfully: ./android.tflite\n"
     ]
    }
   ],
   "source": [
    "model.export(export_dir='.', tflite_filename='android.tflite')"
   ]
  }
 ],
 "metadata": {
  "kernelspec": {
   "display_name": "Python 3.9.15 ('tt_env': venv)",
   "language": "python",
   "name": "python3"
  },
  "language_info": {
   "codemirror_mode": {
    "name": "ipython",
    "version": 3
   },
   "file_extension": ".py",
   "mimetype": "text/x-python",
   "name": "python",
   "nbconvert_exporter": "python",
   "pygments_lexer": "ipython3",
   "version": "3.9.15"
  },
  "orig_nbformat": 4,
  "vscode": {
   "interpreter": {
    "hash": "524fc15747148b2532d87f584d1b6e471ef51f3fa0e892e230957e0ba9637d40"
   }
  }
 },
 "nbformat": 4,
 "nbformat_minor": 2
}
