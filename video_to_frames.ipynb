{
 "cells": [
  {
   "cell_type": "code",
   "execution_count": 17,
   "metadata": {},
   "outputs": [],
   "source": [
    "import cv2 as cv\n",
    "import os"
   ]
  },
  {
   "cell_type": "code",
   "execution_count": 18,
   "metadata": {},
   "outputs": [],
   "source": [
    "vid_num = 0"
   ]
  },
  {
   "cell_type": "code",
   "execution_count": 19,
   "metadata": {},
   "outputs": [],
   "source": [
    "game_num = 0\n",
    "rally_num = 2\n",
    "# input_vid_path = f'/Volumes/KESU/Table Tennis Dataset/new/{game_num}/{rally_num}.mov'\n",
    "input_vid_path = f'/Users/kenjohnson/Documents/Projects/Personal/Table Tennis/imp/videos_old/training_0.mov'\n",
    "# output_frames_dir = f'/Volumes/KESU/Table Tennis Dataset/new/0/{rally_num}-frames/'\n",
    "output_frames_dir = f'/Users/kenjohnson/Documents/Projects/Personal/Table Tennis/imp/videos_old/frames_test/'\n",
    "cap = cv.VideoCapture(input_vid_path)\n",
    "i = 0\n",
    "os.mkdir(output_frames_dir)\n",
    "while True:\n",
    "    ret, frame = cap.read()\n",
    "    if not ret:\n",
    "        cap.release()\n",
    "        break\n",
    "    frame_name = f'{game_num}-{rally_num}-{i}.jpeg'\n",
    "    cv.imwrite(output_frames_dir + frame_name, frame)\n",
    "    i += 1"
   ]
  },
  {
   "cell_type": "code",
   "execution_count": null,
   "metadata": {},
   "outputs": [],
   "source": []
  }
 ],
 "metadata": {
  "kernelspec": {
   "display_name": "Python 3.10.8 ('tt_env': venv)",
   "language": "python",
   "name": "python3"
  },
  "language_info": {
   "codemirror_mode": {
    "name": "ipython",
    "version": 3
   },
   "file_extension": ".py",
   "mimetype": "text/x-python",
   "name": "python",
   "nbconvert_exporter": "python",
   "pygments_lexer": "ipython3",
   "version": "3.9.15"
  },
  "orig_nbformat": 4,
  "vscode": {
   "interpreter": {
    "hash": "524fc15747148b2532d87f584d1b6e471ef51f3fa0e892e230957e0ba9637d40"
   }
  }
 },
 "nbformat": 4,
 "nbformat_minor": 2
}
