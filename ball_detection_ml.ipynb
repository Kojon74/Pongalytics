{
 "cells": [
  {
   "cell_type": "code",
   "execution_count": 96,
   "metadata": {},
   "outputs": [],
   "source": [
    "import cv2 as cv\n",
    "import json\n",
    "import tensorflow as tf\n",
    "from tensorflow import keras\n",
    "from tensorflow.keras import layers, models\n",
    "from tensorflow.keras.layers import Conv2D, Dense, Dropout, Flatten, Input, MaxPooling2D\n",
    "from tensorflow.keras.optimizers import Adam\n",
    "import numpy as np"
   ]
  },
  {
   "cell_type": "code",
   "execution_count": 97,
   "metadata": {},
   "outputs": [],
   "source": [
    "img_size_reduction = 5\n",
    "vid_num = 0\n",
    "input_shape = (int(2160/img_size_reduction), int(3840/img_size_reduction), 3)\n",
    "train_ratio = 0.8"
   ]
  },
  {
   "cell_type": "code",
   "execution_count": 98,
   "metadata": {},
   "outputs": [],
   "source": [
    "x_total = []\n",
    "y_total = []\n",
    "test_images = []\n",
    "with open(f'imp/videos/labels_0/{vid_num}.json') as label_file:\n",
    "    data = json.load(label_file)\n",
    "for i, k in enumerate(data.keys()):\n",
    "    if i > 200:\n",
    "        break\n",
    "    if \"ballCoord\" not in data[k]:\n",
    "        continue\n",
    "    frame_i = int(k)\n",
    "    frame = cv.imread(f'imp/videos/frames_0/{vid_num}/{frame_i}.png')\n",
    "    if i >= 180:\n",
    "        test_images.append(frame)\n",
    "    height, width, channels = frame.shape\n",
    "    frame = cv.resize(frame, (int(width/img_size_reduction), int(height/img_size_reduction)))\n",
    "    x, y = data[k][\"ballCoord\"]\n",
    "    x_total.append(frame)\n",
    "    y_total.append([x/img_size_reduction, y/img_size_reduction])\n",
    "    "
   ]
  },
  {
   "cell_type": "code",
   "execution_count": 99,
   "metadata": {},
   "outputs": [],
   "source": [
    "x_total = np.array(x_total)\n",
    "y_total = np.array(y_total)\n",
    "x_train, x_test = x_total[:180], x_total[180:]\n",
    "y_train, y_test = y_total[:180], y_total[180:]\n"
   ]
  },
  {
   "cell_type": "code",
   "execution_count": 100,
   "metadata": {},
   "outputs": [],
   "source": [
    "x_train = x_train / 255.0"
   ]
  },
  {
   "cell_type": "code",
   "execution_count": 101,
   "metadata": {},
   "outputs": [],
   "source": [
    "model = models.Sequential([\n",
    "    Input(shape=input_shape),\n",
    "    Conv2D(32, kernel_size=(3, 3), activation=\"relu\"),\n",
    "    MaxPooling2D(pool_size=(2, 2)),\n",
    "    Conv2D(64, kernel_size=(3, 3), activation=\"relu\"),\n",
    "    MaxPooling2D(pool_size=(2, 2)),\n",
    "    Flatten(),\n",
    "    Dropout(0.5),\n",
    "    Dense(2, activation='linear')\n",
    "])"
   ]
  },
  {
   "cell_type": "code",
   "execution_count": 102,
   "metadata": {},
   "outputs": [
    {
     "name": "stdout",
     "output_type": "stream",
     "text": [
      "Epoch 1/20\n",
      "16/16 [==============================] - 47s 3s/step - loss: 1510.7391 - val_loss: 96.7471\n",
      "Epoch 2/20\n",
      "16/16 [==============================] - 46s 3s/step - loss: 75.0000 - val_loss: 20.5316\n",
      "Epoch 3/20\n",
      "16/16 [==============================] - 42s 3s/step - loss: 22.5691 - val_loss: 14.9937\n",
      "Epoch 4/20\n",
      "16/16 [==============================] - 38s 2s/step - loss: 10.4663 - val_loss: 17.0319\n",
      "Epoch 5/20\n",
      "16/16 [==============================] - 38s 2s/step - loss: 10.1411 - val_loss: 16.6160\n",
      "Epoch 6/20\n",
      "16/16 [==============================] - 38s 2s/step - loss: 6.8668 - val_loss: 11.4403\n",
      "Epoch 7/20\n",
      "16/16 [==============================] - 39s 2s/step - loss: 6.1299 - val_loss: 17.6361\n",
      "Epoch 8/20\n",
      "16/16 [==============================] - 46s 3s/step - loss: 7.4772 - val_loss: 11.8070\n",
      "Epoch 9/20\n",
      "16/16 [==============================] - 44s 3s/step - loss: 4.8168 - val_loss: 14.5786\n",
      "Epoch 10/20\n",
      "16/16 [==============================] - 45s 3s/step - loss: 6.2460 - val_loss: 11.0591\n",
      "Epoch 11/20\n",
      "16/16 [==============================] - 45s 3s/step - loss: 6.3244 - val_loss: 13.7307\n",
      "Epoch 12/20\n",
      "16/16 [==============================] - 45s 3s/step - loss: 6.2170 - val_loss: 14.1448\n",
      "Epoch 13/20\n",
      "16/16 [==============================] - 43s 3s/step - loss: 6.3427 - val_loss: 14.3693\n",
      "Epoch 14/20\n",
      "16/16 [==============================] - 46s 3s/step - loss: 7.5103 - val_loss: 15.8591\n",
      "Epoch 15/20\n",
      "16/16 [==============================] - 45s 3s/step - loss: 7.1190 - val_loss: 17.5420\n",
      "Epoch 16/20\n",
      "16/16 [==============================] - 50s 3s/step - loss: 6.4486 - val_loss: 10.4712\n",
      "Epoch 17/20\n",
      "16/16 [==============================] - 57s 4s/step - loss: 7.2947 - val_loss: 12.4563\n",
      "Epoch 18/20\n",
      "16/16 [==============================] - 50s 3s/step - loss: 5.9693 - val_loss: 16.9758\n",
      "Epoch 19/20\n",
      "16/16 [==============================] - 53s 3s/step - loss: 7.2641 - val_loss: 9.6845\n",
      "Epoch 20/20\n",
      "16/16 [==============================] - 46s 3s/step - loss: 6.7650 - val_loss: 15.0153\n"
     ]
    },
    {
     "data": {
      "text/plain": [
       "<keras.callbacks.History at 0x12cf07f10>"
      ]
     },
     "execution_count": 102,
     "metadata": {},
     "output_type": "execute_result"
    }
   ],
   "source": [
    "opt = Adam(lr=1e-3, decay=1e-3 / 200)\n",
    "model.compile(loss=\"mean_absolute_percentage_error\", optimizer=opt)\n",
    "model.fit(x=x_total, y=y_total, epochs=20, batch_size=10, validation_split=0.2)"
   ]
  },
  {
   "cell_type": "code",
   "execution_count": 103,
   "metadata": {},
   "outputs": [
    {
     "name": "stdout",
     "output_type": "stream",
     "text": [
      "1/1 [==============================] - 2s 2s/step\n"
     ]
    }
   ],
   "source": [
    "predictions = model.predict(x_test)"
   ]
  },
  {
   "cell_type": "code",
   "execution_count": 104,
   "metadata": {},
   "outputs": [
    {
     "data": {
      "text/plain": [
       "-1"
      ]
     },
     "execution_count": 104,
     "metadata": {},
     "output_type": "execute_result"
    }
   ],
   "source": [
    "cv.imshow('frame', x_test[0])\n",
    "cv.waitKey(0)\n",
    "cv.destroyAllWindows()\n",
    "cv.waitKey(1)"
   ]
  },
  {
   "cell_type": "code",
   "execution_count": 107,
   "metadata": {},
   "outputs": [
    {
     "name": "stdout",
     "output_type": "stream",
     "text": [
      "[366.2008  122.52442]\n",
      "[364.46652 118.50655]\n",
      "[364.11655  120.347404]\n",
      "[362.3003  116.46343]\n",
      "[360.35345  112.308784]\n",
      "[355.58194  107.020195]\n",
      "[339.96942 103.53572]\n",
      "[341.0302   102.231224]\n",
      "[344.77057 106.21243]\n",
      "[355.31537 111.84223]\n",
      "[357.825   113.59318]\n",
      "[347.04257 118.31419]\n",
      "[348.3999  119.18546]\n",
      "[333.6919  115.95199]\n",
      "[339.3382  110.83578]\n",
      "[333.6187  110.32647]\n",
      "[341.95554 113.33021]\n",
      "[328.56174  108.437126]\n",
      "[339.57684 105.36983]\n",
      "[323.34726 101.01406]\n"
     ]
    },
    {
     "data": {
      "text/plain": [
       "-1"
      ]
     },
     "execution_count": 107,
     "metadata": {},
     "output_type": "execute_result"
    }
   ],
   "source": [
    "for i, image in enumerate(x_test):\n",
    "    print(predictions[i])\n",
    "    cv.circle(test_images[i], tuple((predictions[i]*img_size_reduction).astype(int)), 20, (255, 0, 0), 5)\n",
    "    cv.imshow('frame', test_images[i])\n",
    "    cv.waitKey(0)\n",
    "cv.destroyAllWindows()\n",
    "cv.waitKey(1)"
   ]
  },
  {
   "cell_type": "code",
   "execution_count": 106,
   "metadata": {},
   "outputs": [
    {
     "ename": "KeyboardInterrupt",
     "evalue": "",
     "output_type": "error",
     "traceback": [
      "\u001b[0;31m---------------------------------------------------------------------------\u001b[0m",
      "\u001b[0;31mKeyboardInterrupt\u001b[0m                         Traceback (most recent call last)",
      "Cell \u001b[0;32mIn [106], line 16\u001b[0m\n\u001b[1;32m     14\u001b[0m     test_images\u001b[39m.\u001b[39mappend(frame)\n\u001b[1;32m     15\u001b[0m height, width, channels \u001b[39m=\u001b[39m frame\u001b[39m.\u001b[39mshape\n\u001b[0;32m---> 16\u001b[0m frame \u001b[39m=\u001b[39m cv\u001b[39m.\u001b[39;49mresize(frame, (\u001b[39mint\u001b[39;49m(width\u001b[39m/\u001b[39;49mimg_size_reduction), \u001b[39mint\u001b[39;49m(height\u001b[39m/\u001b[39;49mimg_size_reduction)))\n\u001b[1;32m     17\u001b[0m x, y \u001b[39m=\u001b[39m data[k][\u001b[39m\"\u001b[39m\u001b[39mballCoord\u001b[39m\u001b[39m\"\u001b[39m]\n\u001b[1;32m     18\u001b[0m x_total\u001b[39m.\u001b[39mappend(frame)\n",
      "\u001b[0;31mKeyboardInterrupt\u001b[0m: "
     ]
    }
   ],
   "source": [
    "x_total = []\n",
    "y_total = []\n",
    "test_images = []\n",
    "with open(f'imp/videos/labels_0/{vid_num}.json') as label_file:\n",
    "    data = json.load(label_file)\n",
    "for i, k in enumerate(data.keys()):\n",
    "    if i > 500:\n",
    "        break\n",
    "    if \"ballCoord\" not in data[k]:\n",
    "        continue\n",
    "    frame_i = int(k)\n",
    "    frame = cv.imread(f'imp/videos/frames_0/{vid_num}/{frame_i}.png')\n",
    "    if i >= 180:\n",
    "        test_images.append(frame)\n",
    "    height, width, channels = frame.shape\n",
    "    frame = cv.resize(frame, (int(width/img_size_reduction), int(height/img_size_reduction)))\n",
    "    x, y = data[k][\"ballCoord\"]\n",
    "    x_total.append(frame)\n",
    "    y_total.append([x/img_size_reduction, y/img_size_reduction])"
   ]
  }
 ],
 "metadata": {
  "kernelspec": {
   "display_name": "Python 3.10.8 ('tt_env': venv)",
   "language": "python",
   "name": "python3"
  },
  "language_info": {
   "codemirror_mode": {
    "name": "ipython",
    "version": 3
   },
   "file_extension": ".py",
   "mimetype": "text/x-python",
   "name": "python",
   "nbconvert_exporter": "python",
   "pygments_lexer": "ipython3",
   "version": "3.9.15"
  },
  "orig_nbformat": 4,
  "vscode": {
   "interpreter": {
    "hash": "524fc15747148b2532d87f584d1b6e471ef51f3fa0e892e230957e0ba9637d40"
   }
  }
 },
 "nbformat": 4,
 "nbformat_minor": 2
}
