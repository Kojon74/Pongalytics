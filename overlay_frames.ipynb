{
 "cells": [
  {
   "cell_type": "code",
   "execution_count": 1,
   "metadata": {},
   "outputs": [],
   "source": [
    "import cv2 as cv\n",
    "import json"
   ]
  },
  {
   "cell_type": "code",
   "execution_count": 8,
   "metadata": {},
   "outputs": [
    {
     "name": "stderr",
     "output_type": "stream",
     "text": [
      "2022-11-17 00:29:02.130 Python[51838:1426529] ApplePersistenceIgnoreState: Existing state will not be touched. New state will be written to /var/folders/s3/v3l8xgqd3xdgc1ll_pmdv1qr0000gn/T/org.python.python.savedState\n"
     ]
    }
   ],
   "source": [
    "cap = cv.VideoCapture('imp/videos/practice_0/0.mov')\n",
    "frame_rate =  5*round(cap.get(cv.CAP_PROP_FPS)/5)\n",
    "with open('imp/videos/label_0/0.json') as label_file:\n",
    "    data = json.load(label_file)\n",
    "for k in data.keys():\n",
    "    if \"ballCoord\" not in data[k]:\n",
    "        continue\n",
    "    frame_i = int(k)\n",
    "    cap.set(cv.CAP_PROP_POS_MSEC, 1000 * frame_i / frame_rate)\n",
    "    ret, frame = cap.read()\n",
    "    cv.circle(frame, data[k][\"ballCoord\"], 20, (255, 0, 0), 5)\n",
    "    cv.imshow('frame', frame)\n",
    "    cv.waitKey(0)\n"
   ]
  },
  {
   "cell_type": "code",
   "execution_count": 4,
   "metadata": {},
   "outputs": [
    {
     "name": "stdout",
     "output_type": "stream",
     "text": [
      "Frame Rate: 59.99472805553115\n",
      "Frame Count: 3414.0\n",
      "Frame Height: 2160.0\n",
      "Frame Width: 3840.0\n"
     ]
    }
   ],
   "source": [
    "cap = cv.VideoCapture('imp/videos/videos_0/0.mov')\n",
    "frame_rate = cap.get(cv.CAP_PROP_FPS)\n",
    "print(f\"Frame Rate: {frame_rate}\")\n",
    "frame_count = cap.get(cv.CAP_PROP_FRAME_COUNT)\n",
    "print(f\"Frame Count: {frame_count}\")\n",
    "frame_height = cap.get(cv.CAP_PROP_FRAME_HEIGHT)\n",
    "print(f\"Frame Height: {frame_height}\")\n",
    "frame_width = cap.get(cv.CAP_PROP_FRAME_WIDTH)\n",
    "print(f\"Frame Width: {frame_width}\")"
   ]
  },
  {
   "cell_type": "code",
   "execution_count": null,
   "metadata": {},
   "outputs": [],
   "source": []
  }
 ],
 "metadata": {
  "kernelspec": {
   "display_name": "Python 3.10.8 ('tt_env': venv)",
   "language": "python",
   "name": "python3"
  },
  "language_info": {
   "codemirror_mode": {
    "name": "ipython",
    "version": 3
   },
   "file_extension": ".py",
   "mimetype": "text/x-python",
   "name": "python",
   "nbconvert_exporter": "python",
   "pygments_lexer": "ipython3",
   "version": "3.9.15"
  },
  "orig_nbformat": 4,
  "vscode": {
   "interpreter": {
    "hash": "524fc15747148b2532d87f584d1b6e471ef51f3fa0e892e230957e0ba9637d40"
   }
  }
 },
 "nbformat": 4,
 "nbformat_minor": 2
}
