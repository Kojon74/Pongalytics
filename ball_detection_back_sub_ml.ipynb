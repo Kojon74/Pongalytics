{
 "cells": [
  {
   "cell_type": "code",
   "execution_count": 1,
   "metadata": {},
   "outputs": [
    {
     "name": "stderr",
     "output_type": "stream",
     "text": [
      "2022-11-17 18:10:04.158054: I tensorflow/core/platform/cpu_feature_guard.cc:193] This TensorFlow binary is optimized with oneAPI Deep Neural Network Library (oneDNN) to use the following CPU instructions in performance-critical operations:  AVX2 FMA\n",
      "To enable them in other operations, rebuild TensorFlow with the appropriate compiler flags.\n"
     ]
    }
   ],
   "source": [
    "import cv2 as cv\n",
    "import json\n",
    "import tensorflow as tf\n",
    "from tensorflow import keras\n",
    "from tensorflow.keras import layers, models\n",
    "from tensorflow.keras.layers import Conv2D, Dense, Dropout, Flatten, Input, MaxPooling2D\n",
    "from tensorflow.keras.optimizers import Adam\n",
    "import numpy as np"
   ]
  },
  {
   "cell_type": "code",
   "execution_count": 2,
   "metadata": {},
   "outputs": [],
   "source": [
    "img_size_reduction = 4\n",
    "vid_num = 0\n",
    "input_shape = (int(2160/img_size_reduction), int(3840/img_size_reduction), 1)\n",
    "train_ratio = 0.8\n",
    "dataset_size = 500\n",
    "train_frames = int(train_ratio * dataset_size)"
   ]
  },
  {
   "cell_type": "code",
   "execution_count": 3,
   "metadata": {},
   "outputs": [],
   "source": [
    "x_total = []\n",
    "y_total = []\n",
    "test_images = []\n",
    "back_sub = cv.createBackgroundSubtractorMOG2()\n",
    "with open(f'imp/videos/labels_0/1 copy.json') as label_file:\n",
    "    data = json.load(label_file)\n",
    "for i, k in enumerate(data.keys()):\n",
    "    if i > dataset_size:\n",
    "        break\n",
    "    if \"ballCoord\" not in data[k]:\n",
    "        continue\n",
    "    frame_i = int(k)\n",
    "    frame = cv.imread(f'imp/videos/frames_0/{vid_num}/{frame_i}.png')\n",
    "    if i >= train_frames:\n",
    "        test_images.append(frame)\n",
    "    frame = back_sub.apply(frame)\n",
    "    frame = cv.resize(frame, (input_shape[1], input_shape[0]))\n",
    "    # frame = cv.morphologyEx(frame, cv.MORPH_OPEN, (5, 5))\n",
    "    # print(frame.shape)\n",
    "    x, y = data[k][\"ballCoord\"]\n",
    "    x_total.append(frame)\n",
    "    y_total.append([x/img_size_reduction, y/img_size_reduction])"
   ]
  },
  {
   "cell_type": "code",
   "execution_count": 4,
   "metadata": {},
   "outputs": [],
   "source": [
    "x_total = np.array(x_total)\n",
    "y_total = np.array(y_total)\n",
    "x_train, x_test = x_total[:train_frames], x_total[train_frames:]\n",
    "y_train, y_test = y_total[:train_frames], y_total[train_frames:]"
   ]
  },
  {
   "cell_type": "code",
   "execution_count": 5,
   "metadata": {},
   "outputs": [
    {
     "name": "stderr",
     "output_type": "stream",
     "text": [
      "2022-11-17 18:12:26.363486: I tensorflow/core/platform/cpu_feature_guard.cc:193] This TensorFlow binary is optimized with oneAPI Deep Neural Network Library (oneDNN) to use the following CPU instructions in performance-critical operations:  AVX2 FMA\n",
      "To enable them in other operations, rebuild TensorFlow with the appropriate compiler flags.\n"
     ]
    }
   ],
   "source": [
    "model = models.Sequential([\n",
    "    Input(shape=input_shape),\n",
    "    Conv2D(32, kernel_size=(3, 3), activation=\"relu\"),\n",
    "    MaxPooling2D(pool_size=(2, 2)),\n",
    "    Conv2D(64, kernel_size=(3, 3), activation=\"relu\"),\n",
    "    MaxPooling2D(pool_size=(2, 2)),\n",
    "    Flatten(),\n",
    "    Dropout(0.5),\n",
    "    Dense(2, activation='linear')\n",
    "])"
   ]
  },
  {
   "cell_type": "code",
   "execution_count": 6,
   "metadata": {},
   "outputs": [
    {
     "name": "stdout",
     "output_type": "stream",
     "text": [
      "Epoch 1/10\n",
      "4/4 [==============================] - 310s 75s/step - loss: 1374.1864 - val_loss: 143.1844\n",
      "Epoch 2/10\n",
      "4/4 [==============================] - 283s 71s/step - loss: 389.8387 - val_loss: 610.7706\n",
      "Epoch 3/10\n",
      "4/4 [==============================] - 290s 74s/step - loss: 180.8208 - val_loss: 215.7892\n",
      "Epoch 4/10\n",
      "4/4 [==============================] - 371s 94s/step - loss: 72.2815 - val_loss: 229.9278\n",
      "Epoch 5/10\n",
      "4/4 [==============================] - 385s 97s/step - loss: 43.2101 - val_loss: 163.9501\n",
      "Epoch 6/10\n",
      "4/4 [==============================] - 339s 86s/step - loss: 42.8829 - val_loss: 183.4385\n",
      "Epoch 7/10\n",
      "4/4 [==============================] - 360s 91s/step - loss: 32.8025 - val_loss: 248.6661\n",
      "Epoch 8/10\n",
      "4/4 [==============================] - 326s 82s/step - loss: 26.7700 - val_loss: 308.3380\n",
      "Epoch 9/10\n",
      "4/4 [==============================] - 364s 93s/step - loss: 23.0706 - val_loss: 283.1145\n",
      "Epoch 10/10\n",
      "4/4 [==============================] - 353s 90s/step - loss: 18.7868 - val_loss: 286.4257\n"
     ]
    },
    {
     "data": {
      "text/plain": [
       "<keras.callbacks.History at 0x12adfff70>"
      ]
     },
     "execution_count": 6,
     "metadata": {},
     "output_type": "execute_result"
    }
   ],
   "source": [
    "opt = Adam(learning_rate=1e-3, decay=1e-3 / 200)\n",
    "model.compile(loss=\"mean_absolute_percentage_error\", optimizer=opt)\n",
    "model.fit(x=x_total, y=y_total, epochs=10, batch_size=100, validation_split=0.2)"
   ]
  },
  {
   "cell_type": "code",
   "execution_count": 7,
   "metadata": {},
   "outputs": [
    {
     "name": "stderr",
     "output_type": "stream",
     "text": [
      "2022-11-17 19:09:19.688 Python[7962:269448] ApplePersistenceIgnoreState: Existing state will not be touched. New state will be written to /var/folders/s3/v3l8xgqd3xdgc1ll_pmdv1qr0000gn/T/org.python.python.savedState\n"
     ]
    },
    {
     "data": {
      "text/plain": [
       "-1"
      ]
     },
     "execution_count": 7,
     "metadata": {},
     "output_type": "execute_result"
    }
   ],
   "source": [
    "cv.imshow(\"frame\", x_test[0])\n",
    "cv.waitKey(0)\n",
    "cv.destroyAllWindows()\n",
    "cv.waitKey(1)"
   ]
  },
  {
   "cell_type": "code",
   "execution_count": 8,
   "metadata": {},
   "outputs": [
    {
     "name": "stdout",
     "output_type": "stream",
     "text": [
      "4/4 [==============================] - 13s 3s/step\n"
     ]
    }
   ],
   "source": [
    "predictions = model.predict(x_test)"
   ]
  },
  {
   "cell_type": "code",
   "execution_count": 9,
   "metadata": {},
   "outputs": [
    {
     "name": "stdout",
     "output_type": "stream",
     "text": [
      "4/4 [==============================] - 11s 2s/step\n"
     ]
    },
    {
     "data": {
      "text/plain": [
       "-1"
      ]
     },
     "execution_count": 9,
     "metadata": {},
     "output_type": "execute_result"
    }
   ],
   "source": [
    "pred = model.predict(x_test)\n",
    "for i, image in enumerate(x_test):\n",
    "    cv.circle(image, tuple(pred[i].astype(int)), 5, (255, 0, 0), 0)\n",
    "    cv.imshow('frame', image)\n",
    "    cv.waitKey(0)\n",
    "cv.destroyAllWindows()\n",
    "cv.waitKey(1)"
   ]
  },
  {
   "cell_type": "code",
   "execution_count": 10,
   "metadata": {},
   "outputs": [
    {
     "name": "stdout",
     "output_type": "stream",
     "text": [
      "[268.92438 107.25128]\n",
      "[320.75565 120.90819]\n",
      "[484.21216 160.50455]\n",
      "[242.64026  103.787704]\n",
      "[404.63138 144.35658]\n",
      "[437.3551  141.62555]\n",
      "[419.89932 139.85097]\n",
      "[474.76895 152.61914]\n",
      "[475.67627 151.85962]\n",
      "[468.0538  149.89781]\n",
      "[463.7447  147.85152]\n",
      "[494.02432 156.9764 ]\n",
      "[515.14465 164.17276]\n",
      "[554.6945  179.34233]\n",
      "[528.39966 173.62675]\n",
      "[537.842  182.9462]\n",
      "[543.0088  180.87985]\n",
      "[568.0393  187.71022]\n",
      "[551.6118 183.2912]\n",
      "[520.0305 164.3522]\n",
      "[555.6048 183.1356]\n",
      "[527.41864 166.75552]\n",
      "[560.12024 182.93121]\n",
      "[555.4019 174.8626]\n",
      "[537.3472  165.37852]\n",
      "[561.33215 175.37021]\n",
      "[517.77374 156.71004]\n",
      "[521.2238  157.67337]\n",
      "[478.11536 144.78105]\n",
      "[524.65393 160.19441]\n",
      "[553.54565 172.96515]\n",
      "[529.4513  165.12747]\n",
      "[557.3949  196.35043]\n",
      "[536.6214  162.81375]\n",
      "[558.90515 186.75433]\n",
      "[530.6116  161.74869]\n",
      "[545.82666 172.35938]\n",
      "[554.82275 170.0469 ]\n",
      "[557.5296  167.41138]\n",
      "[543.965   165.79971]\n",
      "[541.5404  166.39261]\n",
      "[538.57227 162.68896]\n",
      "[501.12607 146.69498]\n",
      "[497.99493 147.2081 ]\n",
      "[488.7584  143.03883]\n",
      "[511.68372 152.81589]\n",
      "[472.21075 138.1771 ]\n",
      "[525.937  154.3877]\n",
      "[456.0372  130.08307]\n",
      "[475.58017 133.57242]\n",
      "[471.56503 137.24933]\n",
      "[358.98788 103.1928 ]\n",
      "[463.77917 129.99037]\n",
      "[505.01825 138.47513]\n",
      "[528.2607  146.28847]\n",
      "[481.65686 134.51624]\n",
      "[536.1301  149.67726]\n",
      "[490.5681  136.97447]\n",
      "[475.81738 130.28696]\n",
      "[539.48706 153.78322]\n",
      "[434.473   121.78734]\n",
      "[452.07742 127.02297]\n",
      "[407.85565 116.31964]\n",
      "[466.51202 133.47816]\n",
      "[343.01938 108.02632]\n",
      "[404.42422 116.6461 ]\n",
      "[319.0418   103.500694]\n",
      "[407.54553 124.04101]\n",
      "[331.69357 101.69592]\n",
      "[328.79507 101.75324]\n",
      "[308.54752  98.54727]\n",
      "[375.3278  113.18697]\n",
      "[257.9905   84.26833]\n",
      "[255.564    81.40235]\n",
      "[339.98624  101.015884]\n",
      "[337.37418  105.549484]\n",
      "[294.1794   94.42477]\n",
      "[269.63754  88.4872 ]\n",
      "[276.2317   85.64307]\n",
      "[453.50058 128.97552]\n",
      "[239.13852   78.329056]\n",
      "[517.9812  146.92325]\n",
      "[286.17   89.723]\n",
      "[543.8572  150.74854]\n",
      "[389.7183  115.19475]\n",
      "[536.40216 149.366  ]\n",
      "[580.7981  164.56148]\n",
      "[560.8023  156.86699]\n",
      "[699.48145 202.87123]\n",
      "[738.25073 216.76582]\n",
      "[638.30066 197.01614]\n",
      "[503.47226 183.68832]\n",
      "[488.7836  178.75839]\n",
      "[565.76917 200.01614]\n",
      "[560.3811 198.0542]\n",
      "[544.28174 188.77997]\n",
      "[524.4888  182.22302]\n",
      "[497.16534 177.08997]\n",
      "[492.09387 174.77698]\n"
     ]
    },
    {
     "data": {
      "text/plain": [
       "3"
      ]
     },
     "execution_count": 10,
     "metadata": {},
     "output_type": "execute_result"
    }
   ],
   "source": [
    "for i, image in enumerate(x_test):\n",
    "    print(predictions[i])\n",
    "    cv.circle(test_images[i], tuple((predictions[i]*img_size_reduction).astype(int)), 20, (255, 0, 0), 5)\n",
    "    cv.imshow('frame', test_images[i])\n",
    "    cv.waitKey(0)\n",
    "cv.destroyAllWindows()\n",
    "cv.waitKey(1)"
   ]
  },
  {
   "cell_type": "code",
   "execution_count": 11,
   "metadata": {},
   "outputs": [
    {
     "ename": "",
     "evalue": "",
     "output_type": "error",
     "traceback": [
      "\u001b[1;31mThe Kernel crashed while executing code in the the current cell or a previous cell. Please review the code in the cell(s) to identify a possible cause of the failure. Click <a href='https://aka.ms/vscodeJupyterKernelCrash'>here</a> for more info. View Jupyter <a href='command:jupyter.viewOutput'>log</a> for further details."
     ]
    }
   ],
   "source": [
    "for i in range(len(x_total)):\n",
    "    img = x_total[i]\n",
    "    img = cv.morphologyEx(img, cv.MORPH_OPEN, (4, 4))\n",
    "    cv.circle(img, tuple(y_total[i].astype(int)), 5, (255, 0, 0), 1)\n",
    "    cv.imshow(\"frame\", img)\n",
    "    key = cv.waitKey(0)\n",
    "    if key == ord('q'):\n",
    "        cv.destroyAllWindows()\n",
    "        cv.waitKey(1)\n",
    "        break\n",
    "\n"
   ]
  },
  {
   "cell_type": "code",
   "execution_count": null,
   "metadata": {},
   "outputs": [],
   "source": []
  }
 ],
 "metadata": {
  "kernelspec": {
   "display_name": "Python 3.9.15 ('tt_env': venv)",
   "language": "python",
   "name": "python3"
  },
  "language_info": {
   "codemirror_mode": {
    "name": "ipython",
    "version": 3
   },
   "file_extension": ".py",
   "mimetype": "text/x-python",
   "name": "python",
   "nbconvert_exporter": "python",
   "pygments_lexer": "ipython3",
   "version": "3.9.15"
  },
  "orig_nbformat": 4,
  "vscode": {
   "interpreter": {
    "hash": "524fc15747148b2532d87f584d1b6e471ef51f3fa0e892e230957e0ba9637d40"
   }
  }
 },
 "nbformat": 4,
 "nbformat_minor": 2
}
