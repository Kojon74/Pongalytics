{
 "cells": [
  {
   "cell_type": "code",
   "execution_count": 10,
   "metadata": {},
   "outputs": [],
   "source": [
    "import cv2 as cv\n",
    "import json"
   ]
  },
  {
   "cell_type": "code",
   "execution_count": 11,
   "metadata": {},
   "outputs": [],
   "source": [
    "cap = cv.VideoCapture('imp/videos/practice_0/0.mov')\n",
    "width = cap.get(cv.CAP_PROP_FRAME_WIDTH)\n",
    "height = cap.get(cv.CAP_PROP_FRAME_HEIGHT)\n",
    "ball_radius = 20"
   ]
  },
  {
   "cell_type": "code",
   "execution_count": 12,
   "metadata": {},
   "outputs": [],
   "source": [
    "def find_bounds(x, y):\n",
    "    x_min = x - ball_radius\n",
    "    x_max = x + ball_radius\n",
    "    y_min = y - ball_radius\n",
    "    y_max = y + ball_radius\n",
    "    if x_min < 0:\n",
    "        x_max -= x_min\n",
    "        x_min = 0\n",
    "    elif x_max >= width:\n",
    "        x_min -= (x_max - width)\n",
    "        x_max = width\n",
    "    if y_min < 0:\n",
    "        y_max -= y_min\n",
    "        y_min = 0\n",
    "    elif y_max >= height:\n",
    "        y_min -= (y_max - height)\n",
    "        y_max = height\n",
    "    return x_min, x_max, y_min, y_max\n"
   ]
  },
  {
   "cell_type": "code",
   "execution_count": 1,
   "metadata": {},
   "outputs": [
    {
     "ename": "NameError",
     "evalue": "name 'cap' is not defined",
     "output_type": "error",
     "traceback": [
      "\u001b[0;31m---------------------------------------------------------------------------\u001b[0m",
      "\u001b[0;31mNameError\u001b[0m                                 Traceback (most recent call last)",
      "Cell \u001b[0;32mIn [1], line 1\u001b[0m\n\u001b[0;32m----> 1\u001b[0m frame_rate \u001b[39m=\u001b[39m  \u001b[39m5\u001b[39m\u001b[39m*\u001b[39m\u001b[39mround\u001b[39m(cap\u001b[39m.\u001b[39mget(cv\u001b[39m.\u001b[39mCAP_PROP_FPS)\u001b[39m/\u001b[39m\u001b[39m5\u001b[39m)\n\u001b[1;32m      2\u001b[0m \u001b[39mwith\u001b[39;00m \u001b[39mopen\u001b[39m(\u001b[39m'\u001b[39m\u001b[39mimp/videos/label_0/0.json\u001b[39m\u001b[39m'\u001b[39m) \u001b[39mas\u001b[39;00m label_file:\n\u001b[1;32m      3\u001b[0m     data \u001b[39m=\u001b[39m json\u001b[39m.\u001b[39mload(label_file)\n",
      "\u001b[0;31mNameError\u001b[0m: name 'cap' is not defined"
     ]
    }
   ],
   "source": [
    "frame_rate =  5*round(cap.get(cv.CAP_PROP_FPS)/5)\n",
    "with open('imp/videos/label_0/0.json') as label_file:\n",
    "    data = json.load(label_file)\n",
    "for i, k in enumerate(data.keys()):\n",
    "    if \"ballCoord\" not in data[k]:\n",
    "        continue\n",
    "    frame_i = int(k)\n",
    "    cap.set(cv.CAP_PROP_POS_MSEC, 1000 * frame_i / frame_rate)\n",
    "    ret, frame = cap.read()\n",
    "    x, y = data[k][\"ballCoord\"]\n",
    "    x_min, x_max, y_min, y_max = find_bounds(x, y)\n",
    "    cropped = frame[y_min:y_max, x_min:x_max]\n",
    "    cv.imwrite(f'imp/balls/practice_0/{i}.png', cropped)\n"
   ]
  },
  {
   "cell_type": "code",
   "execution_count": 14,
   "metadata": {},
   "outputs": [
    {
     "data": {
      "text/plain": [
       "'2517'"
      ]
     },
     "execution_count": 14,
     "metadata": {},
     "output_type": "execute_result"
    }
   ],
   "source": [
    "k"
   ]
  },
  {
   "cell_type": "code",
   "execution_count": null,
   "metadata": {},
   "outputs": [],
   "source": []
  }
 ],
 "metadata": {
  "kernelspec": {
   "display_name": "Python 3.10.8 ('tt_env': venv)",
   "language": "python",
   "name": "python3"
  },
  "language_info": {
   "codemirror_mode": {
    "name": "ipython",
    "version": 3
   },
   "file_extension": ".py",
   "mimetype": "text/x-python",
   "name": "python",
   "nbconvert_exporter": "python",
   "pygments_lexer": "ipython3",
   "version": "3.9.15"
  },
  "orig_nbformat": 4,
  "vscode": {
   "interpreter": {
    "hash": "524fc15747148b2532d87f584d1b6e471ef51f3fa0e892e230957e0ba9637d40"
   }
  }
 },
 "nbformat": 4,
 "nbformat_minor": 2
}
